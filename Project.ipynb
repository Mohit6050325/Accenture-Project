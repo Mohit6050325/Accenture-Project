{
 "cells": [
  {
   "cell_type": "markdown",
   "id": "ce0321dc",
   "metadata": {},
   "source": [
    "# Accenture Internship(Virtual)"
   ]
  },
  {
   "attachments": {},
   "cell_type": "markdown",
   "id": "a55d56f2",
   "metadata": {},
   "source": [
    "This project consists of different dataset provided by a company named as Social Buzz which is a fast growing technology unicorn that need to adapt quickly to it's global scale. \n",
    "\n",
    "Assigned task:\n",
    "- Analysis to find Social Buzz's top 5 most popular categories of content "
   ]
  },
  {
   "cell_type": "markdown",
   "id": "527b63f1",
   "metadata": {},
   "source": [
    "Dataset  provided by the company consists of 7 different Csv files.\n",
    "- User\n",
    "- Profile\n",
    "- Location\n",
    "- Session\n",
    "- Content\n",
    "- Reaction\n",
    "- Reaction types"
   ]
  },
  {
   "cell_type": "code",
   "execution_count": 1,
   "id": "9ec4b9d2",
   "metadata": {},
   "outputs": [],
   "source": [
    "#Importing pandas\n",
    "import pandas as pd"
   ]
  },
  {
   "cell_type": "code",
   "execution_count": 2,
   "id": "5d3a972f",
   "metadata": {},
   "outputs": [
    {
     "data": {
      "text/html": [
       "<div>\n",
       "<style scoped>\n",
       "    .dataframe tbody tr th:only-of-type {\n",
       "        vertical-align: middle;\n",
       "    }\n",
       "\n",
       "    .dataframe tbody tr th {\n",
       "        vertical-align: top;\n",
       "    }\n",
       "\n",
       "    .dataframe thead th {\n",
       "        text-align: right;\n",
       "    }\n",
       "</style>\n",
       "<table border=\"1\" class=\"dataframe\">\n",
       "  <thead>\n",
       "    <tr style=\"text-align: right;\">\n",
       "      <th></th>\n",
       "      <th>User ID</th>\n",
       "      <th>Name</th>\n",
       "      <th>Email</th>\n",
       "    </tr>\n",
       "  </thead>\n",
       "  <tbody>\n",
       "    <tr>\n",
       "      <th>0</th>\n",
       "      <td>4c731e48-0377-4d7d-b4c8-b2174b774ed8</td>\n",
       "      <td>Gary Hill</td>\n",
       "      <td>GHbnuothhymw</td>\n",
       "    </tr>\n",
       "    <tr>\n",
       "      <th>1</th>\n",
       "      <td>95258c36-5b6b-4591-85ee-0c43f503c1d5</td>\n",
       "      <td>Michael Deering</td>\n",
       "      <td>MD@gmail.com</td>\n",
       "    </tr>\n",
       "    <tr>\n",
       "      <th>2</th>\n",
       "      <td>a8229d24-f219-4930-a382-24049a8f73bb</td>\n",
       "      <td>Richard Bain</td>\n",
       "      <td>RB@gmail.com</td>\n",
       "    </tr>\n",
       "    <tr>\n",
       "      <th>3</th>\n",
       "      <td>8f41c07f-db4f-44f3-ae81-1f99cee047eb</td>\n",
       "      <td>Kristi Mccarthy</td>\n",
       "      <td>KM@gmail.com</td>\n",
       "    </tr>\n",
       "    <tr>\n",
       "      <th>4</th>\n",
       "      <td>3af8d78b-55c4-4ac0-8161-7cc3f6ec11c9</td>\n",
       "      <td>Betty Ellis</td>\n",
       "      <td>BE@gmail.com</td>\n",
       "    </tr>\n",
       "    <tr>\n",
       "      <th>...</th>\n",
       "      <td>...</td>\n",
       "      <td>...</td>\n",
       "      <td>...</td>\n",
       "    </tr>\n",
       "    <tr>\n",
       "      <th>495</th>\n",
       "      <td>1f7e22c8-558a-4b6f-a04f-b219593f029e</td>\n",
       "      <td>Tracey Corbett</td>\n",
       "      <td>TC@gmail.com</td>\n",
       "    </tr>\n",
       "    <tr>\n",
       "      <th>496</th>\n",
       "      <td>0d47a133-383b-4a9c-976c-697ac65ccb19</td>\n",
       "      <td>Jennifer Mcintosh</td>\n",
       "      <td>JM@gmail.com</td>\n",
       "    </tr>\n",
       "    <tr>\n",
       "      <th>497</th>\n",
       "      <td>db0066e1-83cc-43f3-990b-983010aa5370</td>\n",
       "      <td>Marion Stecklein</td>\n",
       "      <td>MS@gmail.com</td>\n",
       "    </tr>\n",
       "    <tr>\n",
       "      <th>498</th>\n",
       "      <td>d6204684-926d-41db-ae9c-a7bf2e76313a</td>\n",
       "      <td>Jeffery Zerbe</td>\n",
       "      <td>JZ@gmail.com</td>\n",
       "    </tr>\n",
       "    <tr>\n",
       "      <th>499</th>\n",
       "      <td>07f4dcd0-2bf3-4f21-9da3-b054b511ae00</td>\n",
       "      <td>Darcel Smith</td>\n",
       "      <td>DS@gmail.com</td>\n",
       "    </tr>\n",
       "  </tbody>\n",
       "</table>\n",
       "<p>500 rows × 3 columns</p>\n",
       "</div>"
      ],
      "text/plain": [
       "                                  User ID               Name         Email\n",
       "0    4c731e48-0377-4d7d-b4c8-b2174b774ed8          Gary Hill  GHbnuothhymw\n",
       "1    95258c36-5b6b-4591-85ee-0c43f503c1d5    Michael Deering  MD@gmail.com\n",
       "2    a8229d24-f219-4930-a382-24049a8f73bb       Richard Bain  RB@gmail.com\n",
       "3    8f41c07f-db4f-44f3-ae81-1f99cee047eb    Kristi Mccarthy  KM@gmail.com\n",
       "4    3af8d78b-55c4-4ac0-8161-7cc3f6ec11c9        Betty Ellis  BE@gmail.com\n",
       "..                                    ...                ...           ...\n",
       "495  1f7e22c8-558a-4b6f-a04f-b219593f029e     Tracey Corbett  TC@gmail.com\n",
       "496  0d47a133-383b-4a9c-976c-697ac65ccb19  Jennifer Mcintosh  JM@gmail.com\n",
       "497  db0066e1-83cc-43f3-990b-983010aa5370   Marion Stecklein  MS@gmail.com\n",
       "498  d6204684-926d-41db-ae9c-a7bf2e76313a      Jeffery Zerbe  JZ@gmail.com\n",
       "499  07f4dcd0-2bf3-4f21-9da3-b054b511ae00       Darcel Smith  DS@gmail.com\n",
       "\n",
       "[500 rows x 3 columns]"
      ]
     },
     "execution_count": 2,
     "metadata": {},
     "output_type": "execute_result"
    }
   ],
   "source": [
    "user_df = pd.read_csv(\"User (1).csv\",index_col=0)\n",
    "user_df"
   ]
  },
  {
   "cell_type": "markdown",
   "id": "09513dc7",
   "metadata": {},
   "source": [
    "Users csv file contains 500 rows and 3 columns. "
   ]
  },
  {
   "cell_type": "code",
   "execution_count": 3,
   "id": "1335a655",
   "metadata": {},
   "outputs": [
    {
     "name": "stdout",
     "output_type": "stream",
     "text": [
      "<class 'pandas.core.frame.DataFrame'>\n",
      "Int64Index: 500 entries, 0 to 499\n",
      "Data columns (total 3 columns):\n",
      " #   Column   Non-Null Count  Dtype \n",
      "---  ------   --------------  ----- \n",
      " 0   User ID  500 non-null    object\n",
      " 1   Name     500 non-null    object\n",
      " 2   Email    500 non-null    object\n",
      "dtypes: object(3)\n",
      "memory usage: 15.6+ KB\n"
     ]
    }
   ],
   "source": [
    "user_df.info()"
   ]
  },
  {
   "cell_type": "code",
   "execution_count": 4,
   "id": "d4470c8c",
   "metadata": {},
   "outputs": [
    {
     "data": {
      "text/plain": [
       "Int64Index([0, 40, 80, 120, 160, 200, 240, 280, 320, 360, 400, 440, 480], dtype='int64')"
      ]
     },
     "execution_count": 4,
     "metadata": {},
     "output_type": "execute_result"
    }
   ],
   "source": [
    "#cleaning invalid Email ids\n",
    "Invalid_email = user_df[user_df[\"Email\"].str[2]!=\"@\"].index\n",
    "Invalid_email"
   ]
  },
  {
   "cell_type": "code",
   "execution_count": 5,
   "id": "06055360",
   "metadata": {},
   "outputs": [],
   "source": [
    "user_df.drop(Invalid_email,inplace=True) #Dropping all the rows containing invalid Emails "
   ]
  },
  {
   "cell_type": "code",
   "execution_count": 6,
   "id": "efd18018",
   "metadata": {
    "scrolled": true
   },
   "outputs": [
    {
     "data": {
      "text/html": [
       "<div>\n",
       "<style scoped>\n",
       "    .dataframe tbody tr th:only-of-type {\n",
       "        vertical-align: middle;\n",
       "    }\n",
       "\n",
       "    .dataframe tbody tr th {\n",
       "        vertical-align: top;\n",
       "    }\n",
       "\n",
       "    .dataframe thead th {\n",
       "        text-align: right;\n",
       "    }\n",
       "</style>\n",
       "<table border=\"1\" class=\"dataframe\">\n",
       "  <thead>\n",
       "    <tr style=\"text-align: right;\">\n",
       "      <th></th>\n",
       "      <th>User ID</th>\n",
       "      <th>Name</th>\n",
       "      <th>Email</th>\n",
       "    </tr>\n",
       "  </thead>\n",
       "  <tbody>\n",
       "    <tr>\n",
       "      <th>1</th>\n",
       "      <td>95258c36-5b6b-4591-85ee-0c43f503c1d5</td>\n",
       "      <td>Michael Deering</td>\n",
       "      <td>MD@gmail.com</td>\n",
       "    </tr>\n",
       "    <tr>\n",
       "      <th>2</th>\n",
       "      <td>a8229d24-f219-4930-a382-24049a8f73bb</td>\n",
       "      <td>Richard Bain</td>\n",
       "      <td>RB@gmail.com</td>\n",
       "    </tr>\n",
       "    <tr>\n",
       "      <th>3</th>\n",
       "      <td>8f41c07f-db4f-44f3-ae81-1f99cee047eb</td>\n",
       "      <td>Kristi Mccarthy</td>\n",
       "      <td>KM@gmail.com</td>\n",
       "    </tr>\n",
       "    <tr>\n",
       "      <th>4</th>\n",
       "      <td>3af8d78b-55c4-4ac0-8161-7cc3f6ec11c9</td>\n",
       "      <td>Betty Ellis</td>\n",
       "      <td>BE@gmail.com</td>\n",
       "    </tr>\n",
       "    <tr>\n",
       "      <th>5</th>\n",
       "      <td>2bd9c167-e06c-47c1-a978-3403d6724606</td>\n",
       "      <td>Hazel Neville</td>\n",
       "      <td>HN@gmail.com</td>\n",
       "    </tr>\n",
       "  </tbody>\n",
       "</table>\n",
       "</div>"
      ],
      "text/plain": [
       "                                User ID             Name         Email\n",
       "1  95258c36-5b6b-4591-85ee-0c43f503c1d5  Michael Deering  MD@gmail.com\n",
       "2  a8229d24-f219-4930-a382-24049a8f73bb     Richard Bain  RB@gmail.com\n",
       "3  8f41c07f-db4f-44f3-ae81-1f99cee047eb  Kristi Mccarthy  KM@gmail.com\n",
       "4  3af8d78b-55c4-4ac0-8161-7cc3f6ec11c9      Betty Ellis  BE@gmail.com\n",
       "5  2bd9c167-e06c-47c1-a978-3403d6724606    Hazel Neville  HN@gmail.com"
      ]
     },
     "execution_count": 6,
     "metadata": {},
     "output_type": "execute_result"
    }
   ],
   "source": [
    "user_df.head()"
   ]
  },
  {
   "cell_type": "markdown",
   "id": "c91ceff2",
   "metadata": {},
   "source": [
    "## Profile"
   ]
  },
  {
   "cell_type": "code",
   "execution_count": 7,
   "id": "d87730d3",
   "metadata": {},
   "outputs": [
    {
     "data": {
      "text/html": [
       "<div>\n",
       "<style scoped>\n",
       "    .dataframe tbody tr th:only-of-type {\n",
       "        vertical-align: middle;\n",
       "    }\n",
       "\n",
       "    .dataframe tbody tr th {\n",
       "        vertical-align: top;\n",
       "    }\n",
       "\n",
       "    .dataframe thead th {\n",
       "        text-align: right;\n",
       "    }\n",
       "</style>\n",
       "<table border=\"1\" class=\"dataframe\">\n",
       "  <thead>\n",
       "    <tr style=\"text-align: right;\">\n",
       "      <th></th>\n",
       "      <th>User ID</th>\n",
       "      <th>Interests</th>\n",
       "      <th>Age</th>\n",
       "    </tr>\n",
       "  </thead>\n",
       "  <tbody>\n",
       "    <tr>\n",
       "      <th>0</th>\n",
       "      <td>4c731e48-0377-4d7d-b4c8-b2174b774ed8</td>\n",
       "      <td>[0, 1]</td>\n",
       "      <td>41</td>\n",
       "    </tr>\n",
       "    <tr>\n",
       "      <th>1</th>\n",
       "      <td>95258c36-5b6b-4591-85ee-0c43f503c1d5</td>\n",
       "      <td>['tennis']</td>\n",
       "      <td>23</td>\n",
       "    </tr>\n",
       "    <tr>\n",
       "      <th>2</th>\n",
       "      <td>a8229d24-f219-4930-a382-24049a8f73bb</td>\n",
       "      <td>['fitness', 'cooking', 'animals', 'travel']</td>\n",
       "      <td>25</td>\n",
       "    </tr>\n",
       "    <tr>\n",
       "      <th>3</th>\n",
       "      <td>8f41c07f-db4f-44f3-ae81-1f99cee047eb</td>\n",
       "      <td>['technology', 'culture', 'veganism']</td>\n",
       "      <td>2</td>\n",
       "    </tr>\n",
       "    <tr>\n",
       "      <th>4</th>\n",
       "      <td>3af8d78b-55c4-4ac0-8161-7cc3f6ec11c9</td>\n",
       "      <td>['education']</td>\n",
       "      <td>44</td>\n",
       "    </tr>\n",
       "    <tr>\n",
       "      <th>...</th>\n",
       "      <td>...</td>\n",
       "      <td>...</td>\n",
       "      <td>...</td>\n",
       "    </tr>\n",
       "    <tr>\n",
       "      <th>495</th>\n",
       "      <td>1f7e22c8-558a-4b6f-a04f-b219593f029e</td>\n",
       "      <td>['tennis', 'veganism', 'education', 'soccer']</td>\n",
       "      <td>21</td>\n",
       "    </tr>\n",
       "    <tr>\n",
       "      <th>496</th>\n",
       "      <td>0d47a133-383b-4a9c-976c-697ac65ccb19</td>\n",
       "      <td>['healthy eating', 'travel']</td>\n",
       "      <td>5</td>\n",
       "    </tr>\n",
       "    <tr>\n",
       "      <th>497</th>\n",
       "      <td>db0066e1-83cc-43f3-990b-983010aa5370</td>\n",
       "      <td>['soccer']</td>\n",
       "      <td>14</td>\n",
       "    </tr>\n",
       "    <tr>\n",
       "      <th>498</th>\n",
       "      <td>d6204684-926d-41db-ae9c-a7bf2e76313a</td>\n",
       "      <td>['public speaking', 'dogs']</td>\n",
       "      <td>24</td>\n",
       "    </tr>\n",
       "    <tr>\n",
       "      <th>499</th>\n",
       "      <td>07f4dcd0-2bf3-4f21-9da3-b054b511ae00</td>\n",
       "      <td>['education', 'science', 'animals', 'public sp...</td>\n",
       "      <td>24</td>\n",
       "    </tr>\n",
       "  </tbody>\n",
       "</table>\n",
       "<p>500 rows × 3 columns</p>\n",
       "</div>"
      ],
      "text/plain": [
       "                                  User ID  \\\n",
       "0    4c731e48-0377-4d7d-b4c8-b2174b774ed8   \n",
       "1    95258c36-5b6b-4591-85ee-0c43f503c1d5   \n",
       "2    a8229d24-f219-4930-a382-24049a8f73bb   \n",
       "3    8f41c07f-db4f-44f3-ae81-1f99cee047eb   \n",
       "4    3af8d78b-55c4-4ac0-8161-7cc3f6ec11c9   \n",
       "..                                    ...   \n",
       "495  1f7e22c8-558a-4b6f-a04f-b219593f029e   \n",
       "496  0d47a133-383b-4a9c-976c-697ac65ccb19   \n",
       "497  db0066e1-83cc-43f3-990b-983010aa5370   \n",
       "498  d6204684-926d-41db-ae9c-a7bf2e76313a   \n",
       "499  07f4dcd0-2bf3-4f21-9da3-b054b511ae00   \n",
       "\n",
       "                                             Interests  Age  \n",
       "0                                               [0, 1]   41  \n",
       "1                                           ['tennis']   23  \n",
       "2          ['fitness', 'cooking', 'animals', 'travel']   25  \n",
       "3                ['technology', 'culture', 'veganism']    2  \n",
       "4                                        ['education']   44  \n",
       "..                                                 ...  ...  \n",
       "495      ['tennis', 'veganism', 'education', 'soccer']   21  \n",
       "496                       ['healthy eating', 'travel']    5  \n",
       "497                                         ['soccer']   14  \n",
       "498                        ['public speaking', 'dogs']   24  \n",
       "499  ['education', 'science', 'animals', 'public sp...   24  \n",
       "\n",
       "[500 rows x 3 columns]"
      ]
     },
     "execution_count": 7,
     "metadata": {},
     "output_type": "execute_result"
    }
   ],
   "source": [
    "profile_df = pd.read_csv(\"Profile (1).csv\",index_col=0)\n",
    "profile_df"
   ]
  },
  {
   "cell_type": "code",
   "execution_count": 8,
   "id": "463bc6f9",
   "metadata": {},
   "outputs": [
    {
     "name": "stdout",
     "output_type": "stream",
     "text": [
      "<class 'pandas.core.frame.DataFrame'>\n",
      "Int64Index: 500 entries, 0 to 499\n",
      "Data columns (total 3 columns):\n",
      " #   Column     Non-Null Count  Dtype \n",
      "---  ------     --------------  ----- \n",
      " 0   User ID    500 non-null    object\n",
      " 1   Interests  500 non-null    object\n",
      " 2   Age        500 non-null    int64 \n",
      "dtypes: int64(1), object(2)\n",
      "memory usage: 15.6+ KB\n"
     ]
    }
   ],
   "source": [
    "profile_df.info()"
   ]
  },
  {
   "cell_type": "code",
   "execution_count": 9,
   "id": "1c9a52fe",
   "metadata": {},
   "outputs": [
    {
     "data": {
      "text/plain": [
       "Int64Index([58, 73, 100, 123, 182, 258, 316, 355, 371, 484], dtype='int64')"
      ]
     },
     "execution_count": 9,
     "metadata": {},
     "output_type": "execute_result"
    }
   ],
   "source": [
    "# Age values which are 0\n",
    "invalid_age = profile_df[profile_df[\"Age\"]==0].index\n",
    "invalid_age"
   ]
  },
  {
   "cell_type": "code",
   "execution_count": 10,
   "id": "d6c0b4d7",
   "metadata": {},
   "outputs": [],
   "source": [
    "profile_df.drop(invalid_age,inplace=True)  #dropping all the invalid age i.e 0 years"
   ]
  },
  {
   "cell_type": "code",
   "execution_count": 11,
   "id": "af661934",
   "metadata": {},
   "outputs": [],
   "source": [
    "unknown_interest = profile_df[profile_df[\"Interests\"]==\"[0, 1]\"].index #Cleaning Interests Section "
   ]
  },
  {
   "cell_type": "code",
   "execution_count": 12,
   "id": "863c18bc",
   "metadata": {},
   "outputs": [],
   "source": [
    "profile_df.drop(unknown_interest,inplace=True) "
   ]
  },
  {
   "cell_type": "code",
   "execution_count": 13,
   "id": "774bfda1",
   "metadata": {},
   "outputs": [
    {
     "data": {
      "text/html": [
       "<div>\n",
       "<style scoped>\n",
       "    .dataframe tbody tr th:only-of-type {\n",
       "        vertical-align: middle;\n",
       "    }\n",
       "\n",
       "    .dataframe tbody tr th {\n",
       "        vertical-align: top;\n",
       "    }\n",
       "\n",
       "    .dataframe thead th {\n",
       "        text-align: right;\n",
       "    }\n",
       "</style>\n",
       "<table border=\"1\" class=\"dataframe\">\n",
       "  <thead>\n",
       "    <tr style=\"text-align: right;\">\n",
       "      <th></th>\n",
       "      <th>User ID</th>\n",
       "      <th>Interests</th>\n",
       "      <th>Age</th>\n",
       "    </tr>\n",
       "  </thead>\n",
       "  <tbody>\n",
       "    <tr>\n",
       "      <th>1</th>\n",
       "      <td>95258c36-5b6b-4591-85ee-0c43f503c1d5</td>\n",
       "      <td>['tennis']</td>\n",
       "      <td>23</td>\n",
       "    </tr>\n",
       "    <tr>\n",
       "      <th>2</th>\n",
       "      <td>a8229d24-f219-4930-a382-24049a8f73bb</td>\n",
       "      <td>['fitness', 'cooking', 'animals', 'travel']</td>\n",
       "      <td>25</td>\n",
       "    </tr>\n",
       "    <tr>\n",
       "      <th>3</th>\n",
       "      <td>8f41c07f-db4f-44f3-ae81-1f99cee047eb</td>\n",
       "      <td>['technology', 'culture', 'veganism']</td>\n",
       "      <td>2</td>\n",
       "    </tr>\n",
       "    <tr>\n",
       "      <th>4</th>\n",
       "      <td>3af8d78b-55c4-4ac0-8161-7cc3f6ec11c9</td>\n",
       "      <td>['education']</td>\n",
       "      <td>44</td>\n",
       "    </tr>\n",
       "    <tr>\n",
       "      <th>5</th>\n",
       "      <td>2bd9c167-e06c-47c1-a978-3403d6724606</td>\n",
       "      <td>['culture', 'healthy eating']</td>\n",
       "      <td>28</td>\n",
       "    </tr>\n",
       "  </tbody>\n",
       "</table>\n",
       "</div>"
      ],
      "text/plain": [
       "                                User ID  \\\n",
       "1  95258c36-5b6b-4591-85ee-0c43f503c1d5   \n",
       "2  a8229d24-f219-4930-a382-24049a8f73bb   \n",
       "3  8f41c07f-db4f-44f3-ae81-1f99cee047eb   \n",
       "4  3af8d78b-55c4-4ac0-8161-7cc3f6ec11c9   \n",
       "5  2bd9c167-e06c-47c1-a978-3403d6724606   \n",
       "\n",
       "                                     Interests  Age  \n",
       "1                                   ['tennis']   23  \n",
       "2  ['fitness', 'cooking', 'animals', 'travel']   25  \n",
       "3        ['technology', 'culture', 'veganism']    2  \n",
       "4                                ['education']   44  \n",
       "5                ['culture', 'healthy eating']   28  "
      ]
     },
     "execution_count": 13,
     "metadata": {},
     "output_type": "execute_result"
    }
   ],
   "source": [
    "profile_df.head()"
   ]
  },
  {
   "cell_type": "markdown",
   "id": "022697c1",
   "metadata": {},
   "source": [
    "## Location"
   ]
  },
  {
   "cell_type": "code",
   "execution_count": 14,
   "id": "7ebbade7",
   "metadata": {},
   "outputs": [
    {
     "data": {
      "text/html": [
       "<div>\n",
       "<style scoped>\n",
       "    .dataframe tbody tr th:only-of-type {\n",
       "        vertical-align: middle;\n",
       "    }\n",
       "\n",
       "    .dataframe tbody tr th {\n",
       "        vertical-align: top;\n",
       "    }\n",
       "\n",
       "    .dataframe thead th {\n",
       "        text-align: right;\n",
       "    }\n",
       "</style>\n",
       "<table border=\"1\" class=\"dataframe\">\n",
       "  <thead>\n",
       "    <tr style=\"text-align: right;\">\n",
       "      <th></th>\n",
       "      <th>User ID</th>\n",
       "      <th>Address</th>\n",
       "    </tr>\n",
       "  </thead>\n",
       "  <tbody>\n",
       "    <tr>\n",
       "      <th>0</th>\n",
       "      <td>4c731e48-0377-4d7d-b4c8-b2174b774ed8</td>\n",
       "      <td>6208 Wright Mountains\\nBryantfurt, AR 02531</td>\n",
       "    </tr>\n",
       "    <tr>\n",
       "      <th>1</th>\n",
       "      <td>95258c36-5b6b-4591-85ee-0c43f503c1d5</td>\n",
       "      <td>534 Williams Turnpike Suite 788\\nPort Julie, W...</td>\n",
       "    </tr>\n",
       "    <tr>\n",
       "      <th>2</th>\n",
       "      <td>a8229d24-f219-4930-a382-24049a8f73bb</td>\n",
       "      <td>867 Lisa Causeway Apt. 015\\nWest Brentmouth, A...</td>\n",
       "    </tr>\n",
       "    <tr>\n",
       "      <th>3</th>\n",
       "      <td>8f41c07f-db4f-44f3-ae81-1f99cee047eb</td>\n",
       "      <td>5687 Wilson Harbors Suite 763\\nLake Robert, FL...</td>\n",
       "    </tr>\n",
       "    <tr>\n",
       "      <th>4</th>\n",
       "      <td>3af8d78b-55c4-4ac0-8161-7cc3f6ec11c9</td>\n",
       "      <td>Unit 2614 Box 8996\\nDPO AE 23660</td>\n",
       "    </tr>\n",
       "    <tr>\n",
       "      <th>...</th>\n",
       "      <td>...</td>\n",
       "      <td>...</td>\n",
       "    </tr>\n",
       "    <tr>\n",
       "      <th>495</th>\n",
       "      <td>1f7e22c8-558a-4b6f-a04f-b219593f029e</td>\n",
       "      <td>710 Tiffany Knoll Suite 379\\nCarterport, HI 44352</td>\n",
       "    </tr>\n",
       "    <tr>\n",
       "      <th>496</th>\n",
       "      <td>0d47a133-383b-4a9c-976c-697ac65ccb19</td>\n",
       "      <td>61708 Terri Walks Suite 867\\nEast Dylan, MD 80914</td>\n",
       "    </tr>\n",
       "    <tr>\n",
       "      <th>497</th>\n",
       "      <td>db0066e1-83cc-43f3-990b-983010aa5370</td>\n",
       "      <td>1944 Gonzalez Cove\\nSouth Jason, SD 65716</td>\n",
       "    </tr>\n",
       "    <tr>\n",
       "      <th>498</th>\n",
       "      <td>d6204684-926d-41db-ae9c-a7bf2e76313a</td>\n",
       "      <td>41287 Miller Isle\\nTylermouth, VT 38540</td>\n",
       "    </tr>\n",
       "    <tr>\n",
       "      <th>499</th>\n",
       "      <td>07f4dcd0-2bf3-4f21-9da3-b054b511ae00</td>\n",
       "      <td>51539 Sullivan Extensions Apt. 265\\nSouth Trav...</td>\n",
       "    </tr>\n",
       "  </tbody>\n",
       "</table>\n",
       "<p>500 rows × 2 columns</p>\n",
       "</div>"
      ],
      "text/plain": [
       "                                  User ID  \\\n",
       "0    4c731e48-0377-4d7d-b4c8-b2174b774ed8   \n",
       "1    95258c36-5b6b-4591-85ee-0c43f503c1d5   \n",
       "2    a8229d24-f219-4930-a382-24049a8f73bb   \n",
       "3    8f41c07f-db4f-44f3-ae81-1f99cee047eb   \n",
       "4    3af8d78b-55c4-4ac0-8161-7cc3f6ec11c9   \n",
       "..                                    ...   \n",
       "495  1f7e22c8-558a-4b6f-a04f-b219593f029e   \n",
       "496  0d47a133-383b-4a9c-976c-697ac65ccb19   \n",
       "497  db0066e1-83cc-43f3-990b-983010aa5370   \n",
       "498  d6204684-926d-41db-ae9c-a7bf2e76313a   \n",
       "499  07f4dcd0-2bf3-4f21-9da3-b054b511ae00   \n",
       "\n",
       "                                               Address  \n",
       "0          6208 Wright Mountains\\nBryantfurt, AR 02531  \n",
       "1    534 Williams Turnpike Suite 788\\nPort Julie, W...  \n",
       "2    867 Lisa Causeway Apt. 015\\nWest Brentmouth, A...  \n",
       "3    5687 Wilson Harbors Suite 763\\nLake Robert, FL...  \n",
       "4                     Unit 2614 Box 8996\\nDPO AE 23660  \n",
       "..                                                 ...  \n",
       "495  710 Tiffany Knoll Suite 379\\nCarterport, HI 44352  \n",
       "496  61708 Terri Walks Suite 867\\nEast Dylan, MD 80914  \n",
       "497          1944 Gonzalez Cove\\nSouth Jason, SD 65716  \n",
       "498            41287 Miller Isle\\nTylermouth, VT 38540  \n",
       "499  51539 Sullivan Extensions Apt. 265\\nSouth Trav...  \n",
       "\n",
       "[500 rows x 2 columns]"
      ]
     },
     "execution_count": 14,
     "metadata": {},
     "output_type": "execute_result"
    }
   ],
   "source": [
    "location_df = pd.read_csv(\"location (1).csv\",index_col=0)\n",
    "location_df"
   ]
  },
  {
   "cell_type": "markdown",
   "id": "1fde9bfe",
   "metadata": {},
   "source": [
    "## Session"
   ]
  },
  {
   "cell_type": "code",
   "execution_count": 15,
   "id": "b774d959",
   "metadata": {},
   "outputs": [
    {
     "data": {
      "text/html": [
       "<div>\n",
       "<style scoped>\n",
       "    .dataframe tbody tr th:only-of-type {\n",
       "        vertical-align: middle;\n",
       "    }\n",
       "\n",
       "    .dataframe tbody tr th {\n",
       "        vertical-align: top;\n",
       "    }\n",
       "\n",
       "    .dataframe thead th {\n",
       "        text-align: right;\n",
       "    }\n",
       "</style>\n",
       "<table border=\"1\" class=\"dataframe\">\n",
       "  <thead>\n",
       "    <tr style=\"text-align: right;\">\n",
       "      <th></th>\n",
       "      <th>User ID</th>\n",
       "      <th>Device</th>\n",
       "      <th>Duration</th>\n",
       "    </tr>\n",
       "  </thead>\n",
       "  <tbody>\n",
       "    <tr>\n",
       "      <th>0</th>\n",
       "      <td>4c731e48-0377-4d7d-b4c8-b2174b774ed8</td>\n",
       "      <td>Microsoft</td>\n",
       "      <td>11</td>\n",
       "    </tr>\n",
       "    <tr>\n",
       "      <th>1</th>\n",
       "      <td>95258c36-5b6b-4591-85ee-0c43f503c1d5</td>\n",
       "      <td>Apple</td>\n",
       "      <td>51</td>\n",
       "    </tr>\n",
       "    <tr>\n",
       "      <th>2</th>\n",
       "      <td>a8229d24-f219-4930-a382-24049a8f73bb</td>\n",
       "      <td>HTC</td>\n",
       "      <td>25</td>\n",
       "    </tr>\n",
       "    <tr>\n",
       "      <th>3</th>\n",
       "      <td>8f41c07f-db4f-44f3-ae81-1f99cee047eb</td>\n",
       "      <td>Motorola</td>\n",
       "      <td>68</td>\n",
       "    </tr>\n",
       "    <tr>\n",
       "      <th>4</th>\n",
       "      <td>3af8d78b-55c4-4ac0-8161-7cc3f6ec11c9</td>\n",
       "      <td>Huawei</td>\n",
       "      <td>57</td>\n",
       "    </tr>\n",
       "    <tr>\n",
       "      <th>...</th>\n",
       "      <td>...</td>\n",
       "      <td>...</td>\n",
       "      <td>...</td>\n",
       "    </tr>\n",
       "    <tr>\n",
       "      <th>495</th>\n",
       "      <td>1f7e22c8-558a-4b6f-a04f-b219593f029e</td>\n",
       "      <td>Motorola</td>\n",
       "      <td>59</td>\n",
       "    </tr>\n",
       "    <tr>\n",
       "      <th>496</th>\n",
       "      <td>0d47a133-383b-4a9c-976c-697ac65ccb19</td>\n",
       "      <td>Samsung</td>\n",
       "      <td>23</td>\n",
       "    </tr>\n",
       "    <tr>\n",
       "      <th>497</th>\n",
       "      <td>db0066e1-83cc-43f3-990b-983010aa5370</td>\n",
       "      <td>Microsoft</td>\n",
       "      <td>35</td>\n",
       "    </tr>\n",
       "    <tr>\n",
       "      <th>498</th>\n",
       "      <td>d6204684-926d-41db-ae9c-a7bf2e76313a</td>\n",
       "      <td>Motorola</td>\n",
       "      <td>99</td>\n",
       "    </tr>\n",
       "    <tr>\n",
       "      <th>499</th>\n",
       "      <td>07f4dcd0-2bf3-4f21-9da3-b054b511ae00</td>\n",
       "      <td>Samsung</td>\n",
       "      <td>91</td>\n",
       "    </tr>\n",
       "  </tbody>\n",
       "</table>\n",
       "<p>500 rows × 3 columns</p>\n",
       "</div>"
      ],
      "text/plain": [
       "                                  User ID     Device  Duration\n",
       "0    4c731e48-0377-4d7d-b4c8-b2174b774ed8  Microsoft        11\n",
       "1    95258c36-5b6b-4591-85ee-0c43f503c1d5      Apple        51\n",
       "2    a8229d24-f219-4930-a382-24049a8f73bb        HTC        25\n",
       "3    8f41c07f-db4f-44f3-ae81-1f99cee047eb   Motorola        68\n",
       "4    3af8d78b-55c4-4ac0-8161-7cc3f6ec11c9     Huawei        57\n",
       "..                                    ...        ...       ...\n",
       "495  1f7e22c8-558a-4b6f-a04f-b219593f029e   Motorola        59\n",
       "496  0d47a133-383b-4a9c-976c-697ac65ccb19    Samsung        23\n",
       "497  db0066e1-83cc-43f3-990b-983010aa5370  Microsoft        35\n",
       "498  d6204684-926d-41db-ae9c-a7bf2e76313a   Motorola        99\n",
       "499  07f4dcd0-2bf3-4f21-9da3-b054b511ae00    Samsung        91\n",
       "\n",
       "[500 rows x 3 columns]"
      ]
     },
     "execution_count": 15,
     "metadata": {},
     "output_type": "execute_result"
    }
   ],
   "source": [
    "session_df = pd.read_csv(\"Session (1).csv\",index_col=0)\n",
    "session_df"
   ]
  },
  {
   "cell_type": "code",
   "execution_count": 16,
   "id": "7216001f",
   "metadata": {},
   "outputs": [
    {
     "name": "stdout",
     "output_type": "stream",
     "text": [
      "<class 'pandas.core.frame.DataFrame'>\n",
      "Int64Index: 500 entries, 0 to 499\n",
      "Data columns (total 3 columns):\n",
      " #   Column    Non-Null Count  Dtype \n",
      "---  ------    --------------  ----- \n",
      " 0   User ID   500 non-null    object\n",
      " 1   Device    500 non-null    object\n",
      " 2   Duration  500 non-null    int64 \n",
      "dtypes: int64(1), object(2)\n",
      "memory usage: 15.6+ KB\n"
     ]
    }
   ],
   "source": [
    "session_df.info()"
   ]
  },
  {
   "cell_type": "code",
   "execution_count": 17,
   "id": "dcf2ac4b",
   "metadata": {},
   "outputs": [
    {
     "data": {
      "text/plain": [
       "Microsoft    77\n",
       "Motorola     77\n",
       "Huawei       74\n",
       "HTC          72\n",
       "Apple        68\n",
       "Samsung      65\n",
       "Google       61\n",
       "sbnnz         1\n",
       "thbhn         1\n",
       "ouafw         1\n",
       "dcppv         1\n",
       "xtzqw         1\n",
       "qxugb         1\n",
       "Name: Device, dtype: int64"
      ]
     },
     "execution_count": 17,
     "metadata": {},
     "output_type": "execute_result"
    }
   ],
   "source": [
    "session_df.Device.value_counts()"
   ]
  },
  {
   "cell_type": "markdown",
   "id": "ad2a4fe7",
   "metadata": {},
   "source": [
    "There are 6 Device names which might be invalid like sbnnz,qxugb. So dropping these rows would be a right choice to make data more clean and easy to analyse."
   ]
  },
  {
   "cell_type": "code",
   "execution_count": 18,
   "id": "63c21205",
   "metadata": {},
   "outputs": [],
   "source": [
    "counts = session_df['Device'].value_counts()\n",
    "\n",
    "session_df = session_df[~session_df['Device'].isin(counts[counts < 2].index)]"
   ]
  },
  {
   "cell_type": "code",
   "execution_count": 19,
   "id": "adbf4ff0",
   "metadata": {
    "collapsed": true
   },
   "outputs": [
    {
     "name": "stderr",
     "output_type": "stream",
     "text": [
      "C:\\Users\\Ansh\\AppData\\Local\\Temp\\ipykernel_3272\\2710003854.py:2: SettingWithCopyWarning: \n",
      "A value is trying to be set on a copy of a slice from a DataFrame.\n",
      "Try using .loc[row_indexer,col_indexer] = value instead\n",
      "\n",
      "See the caveats in the documentation: https://pandas.pydata.org/pandas-docs/stable/user_guide/indexing.html#returning-a-view-versus-a-copy\n",
      "  session_df.Duration=pd.to_datetime(session_df.Duration, unit='m').dt.strftime('%H:%M')\n"
     ]
    }
   ],
   "source": [
    "# Chanding the duration to hours:minutes format\n",
    "session_df.Duration=pd.to_datetime(session_df.Duration, unit='m').dt.strftime('%H:%M')"
   ]
  },
  {
   "cell_type": "code",
   "execution_count": 20,
   "id": "b3b58d42",
   "metadata": {
    "scrolled": true
   },
   "outputs": [
    {
     "data": {
      "text/html": [
       "<div>\n",
       "<style scoped>\n",
       "    .dataframe tbody tr th:only-of-type {\n",
       "        vertical-align: middle;\n",
       "    }\n",
       "\n",
       "    .dataframe tbody tr th {\n",
       "        vertical-align: top;\n",
       "    }\n",
       "\n",
       "    .dataframe thead th {\n",
       "        text-align: right;\n",
       "    }\n",
       "</style>\n",
       "<table border=\"1\" class=\"dataframe\">\n",
       "  <thead>\n",
       "    <tr style=\"text-align: right;\">\n",
       "      <th></th>\n",
       "      <th>User ID</th>\n",
       "      <th>Device</th>\n",
       "      <th>Duration</th>\n",
       "    </tr>\n",
       "  </thead>\n",
       "  <tbody>\n",
       "    <tr>\n",
       "      <th>0</th>\n",
       "      <td>4c731e48-0377-4d7d-b4c8-b2174b774ed8</td>\n",
       "      <td>Microsoft</td>\n",
       "      <td>00:11</td>\n",
       "    </tr>\n",
       "    <tr>\n",
       "      <th>1</th>\n",
       "      <td>95258c36-5b6b-4591-85ee-0c43f503c1d5</td>\n",
       "      <td>Apple</td>\n",
       "      <td>00:51</td>\n",
       "    </tr>\n",
       "    <tr>\n",
       "      <th>2</th>\n",
       "      <td>a8229d24-f219-4930-a382-24049a8f73bb</td>\n",
       "      <td>HTC</td>\n",
       "      <td>00:25</td>\n",
       "    </tr>\n",
       "    <tr>\n",
       "      <th>3</th>\n",
       "      <td>8f41c07f-db4f-44f3-ae81-1f99cee047eb</td>\n",
       "      <td>Motorola</td>\n",
       "      <td>01:08</td>\n",
       "    </tr>\n",
       "    <tr>\n",
       "      <th>4</th>\n",
       "      <td>3af8d78b-55c4-4ac0-8161-7cc3f6ec11c9</td>\n",
       "      <td>Huawei</td>\n",
       "      <td>00:57</td>\n",
       "    </tr>\n",
       "  </tbody>\n",
       "</table>\n",
       "</div>"
      ],
      "text/plain": [
       "                                User ID     Device Duration\n",
       "0  4c731e48-0377-4d7d-b4c8-b2174b774ed8  Microsoft    00:11\n",
       "1  95258c36-5b6b-4591-85ee-0c43f503c1d5      Apple    00:51\n",
       "2  a8229d24-f219-4930-a382-24049a8f73bb        HTC    00:25\n",
       "3  8f41c07f-db4f-44f3-ae81-1f99cee047eb   Motorola    01:08\n",
       "4  3af8d78b-55c4-4ac0-8161-7cc3f6ec11c9     Huawei    00:57"
      ]
     },
     "execution_count": 20,
     "metadata": {},
     "output_type": "execute_result"
    }
   ],
   "source": [
    "session_df.head()"
   ]
  },
  {
   "cell_type": "markdown",
   "id": "ef535c00",
   "metadata": {},
   "source": [
    "## Content"
   ]
  },
  {
   "cell_type": "code",
   "execution_count": 21,
   "id": "014ae687",
   "metadata": {},
   "outputs": [
    {
     "data": {
      "text/html": [
       "<div>\n",
       "<style scoped>\n",
       "    .dataframe tbody tr th:only-of-type {\n",
       "        vertical-align: middle;\n",
       "    }\n",
       "\n",
       "    .dataframe tbody tr th {\n",
       "        vertical-align: top;\n",
       "    }\n",
       "\n",
       "    .dataframe thead th {\n",
       "        text-align: right;\n",
       "    }\n",
       "</style>\n",
       "<table border=\"1\" class=\"dataframe\">\n",
       "  <thead>\n",
       "    <tr style=\"text-align: right;\">\n",
       "      <th></th>\n",
       "      <th>Content ID</th>\n",
       "      <th>User ID</th>\n",
       "      <th>Type</th>\n",
       "      <th>Category</th>\n",
       "      <th>URL</th>\n",
       "    </tr>\n",
       "  </thead>\n",
       "  <tbody>\n",
       "    <tr>\n",
       "      <th>0</th>\n",
       "      <td>97522e57-d9ab-4bd6-97bf-c24d952602d2</td>\n",
       "      <td>8d3cd87d-8a31-4935-9a4f-b319bfe05f31</td>\n",
       "      <td>photo</td>\n",
       "      <td>Studying</td>\n",
       "      <td>https://socialbuzz.cdn.com/content/storage/975...</td>\n",
       "    </tr>\n",
       "    <tr>\n",
       "      <th>1</th>\n",
       "      <td>9f737e0a-3cdd-4d29-9d24-753f4e3be810</td>\n",
       "      <td>beb1f34e-7870-46d6-9fc7-2e12eb83ce43</td>\n",
       "      <td>photo</td>\n",
       "      <td>healthy eating</td>\n",
       "      <td>https://socialbuzz.cdn.com/content/storage/9f7...</td>\n",
       "    </tr>\n",
       "    <tr>\n",
       "      <th>2</th>\n",
       "      <td>230c4e4d-70c3-461d-b42c-ec09396efb3f</td>\n",
       "      <td>a5c65404-5894-4b87-82f2-d787cbee86b4</td>\n",
       "      <td>photo</td>\n",
       "      <td>healthy eating</td>\n",
       "      <td>https://socialbuzz.cdn.com/content/storage/230...</td>\n",
       "    </tr>\n",
       "    <tr>\n",
       "      <th>3</th>\n",
       "      <td>356fff80-da4d-4785-9f43-bc1261031dc6</td>\n",
       "      <td>9fb4ce88-fac1-406c-8544-1a899cee7aaf</td>\n",
       "      <td>photo</td>\n",
       "      <td>technology</td>\n",
       "      <td>https://socialbuzz.cdn.com/content/storage/356...</td>\n",
       "    </tr>\n",
       "    <tr>\n",
       "      <th>4</th>\n",
       "      <td>01ab84dd-6364-4236-abbb-3f237db77180</td>\n",
       "      <td>e206e31b-5f85-4964-b6ea-d7ee5324def1</td>\n",
       "      <td>video</td>\n",
       "      <td>food</td>\n",
       "      <td>https://socialbuzz.cdn.com/content/storage/01a...</td>\n",
       "    </tr>\n",
       "    <tr>\n",
       "      <th>...</th>\n",
       "      <td>...</td>\n",
       "      <td>...</td>\n",
       "      <td>...</td>\n",
       "      <td>...</td>\n",
       "      <td>...</td>\n",
       "    </tr>\n",
       "    <tr>\n",
       "      <th>995</th>\n",
       "      <td>b4cef9ef-627b-41d7-a051-5961b0204ebb</td>\n",
       "      <td>5b62e10e-3c19-4d28-a57c-e9bdc3d6758d</td>\n",
       "      <td>video</td>\n",
       "      <td>public speaking</td>\n",
       "      <td>NaN</td>\n",
       "    </tr>\n",
       "    <tr>\n",
       "      <th>996</th>\n",
       "      <td>7a79f4e4-3b7d-44dc-bdef-bc990740252c</td>\n",
       "      <td>4fe420fa-a193-4408-bd5d-62a020233609</td>\n",
       "      <td>GIF</td>\n",
       "      <td>technology</td>\n",
       "      <td>https://socialbuzz.cdn.com/content/storage/7a7...</td>\n",
       "    </tr>\n",
       "    <tr>\n",
       "      <th>997</th>\n",
       "      <td>435007a5-6261-4d8b-b0a4-55fdc189754b</td>\n",
       "      <td>35d6a1f3-e358-4d4b-8074-05f3b7f35c2a</td>\n",
       "      <td>audio</td>\n",
       "      <td>veganism</td>\n",
       "      <td>https://socialbuzz.cdn.com/content/storage/435...</td>\n",
       "    </tr>\n",
       "    <tr>\n",
       "      <th>998</th>\n",
       "      <td>4e4c9690-c013-4ee7-9e66-943d8cbd27b7</td>\n",
       "      <td>b9bcd994-f000-4f6b-87fc-caae08acfaa1</td>\n",
       "      <td>GIF</td>\n",
       "      <td>culture</td>\n",
       "      <td>https://socialbuzz.cdn.com/content/storage/4e4...</td>\n",
       "    </tr>\n",
       "    <tr>\n",
       "      <th>999</th>\n",
       "      <td>75d6b589-7fae-4a6d-b0d0-752845150e56</td>\n",
       "      <td>b8c653b5-0118-4d7e-9bde-07c2de90f0ff</td>\n",
       "      <td>audio</td>\n",
       "      <td>technology</td>\n",
       "      <td>https://socialbuzz.cdn.com/content/storage/75d...</td>\n",
       "    </tr>\n",
       "  </tbody>\n",
       "</table>\n",
       "<p>1000 rows × 5 columns</p>\n",
       "</div>"
      ],
      "text/plain": [
       "                               Content ID  \\\n",
       "0    97522e57-d9ab-4bd6-97bf-c24d952602d2   \n",
       "1    9f737e0a-3cdd-4d29-9d24-753f4e3be810   \n",
       "2    230c4e4d-70c3-461d-b42c-ec09396efb3f   \n",
       "3    356fff80-da4d-4785-9f43-bc1261031dc6   \n",
       "4    01ab84dd-6364-4236-abbb-3f237db77180   \n",
       "..                                    ...   \n",
       "995  b4cef9ef-627b-41d7-a051-5961b0204ebb   \n",
       "996  7a79f4e4-3b7d-44dc-bdef-bc990740252c   \n",
       "997  435007a5-6261-4d8b-b0a4-55fdc189754b   \n",
       "998  4e4c9690-c013-4ee7-9e66-943d8cbd27b7   \n",
       "999  75d6b589-7fae-4a6d-b0d0-752845150e56   \n",
       "\n",
       "                                  User ID   Type         Category  \\\n",
       "0    8d3cd87d-8a31-4935-9a4f-b319bfe05f31  photo         Studying   \n",
       "1    beb1f34e-7870-46d6-9fc7-2e12eb83ce43  photo   healthy eating   \n",
       "2    a5c65404-5894-4b87-82f2-d787cbee86b4  photo   healthy eating   \n",
       "3    9fb4ce88-fac1-406c-8544-1a899cee7aaf  photo       technology   \n",
       "4    e206e31b-5f85-4964-b6ea-d7ee5324def1  video             food   \n",
       "..                                    ...    ...              ...   \n",
       "995  5b62e10e-3c19-4d28-a57c-e9bdc3d6758d  video  public speaking   \n",
       "996  4fe420fa-a193-4408-bd5d-62a020233609    GIF       technology   \n",
       "997  35d6a1f3-e358-4d4b-8074-05f3b7f35c2a  audio         veganism   \n",
       "998  b9bcd994-f000-4f6b-87fc-caae08acfaa1    GIF          culture   \n",
       "999  b8c653b5-0118-4d7e-9bde-07c2de90f0ff  audio       technology   \n",
       "\n",
       "                                                   URL  \n",
       "0    https://socialbuzz.cdn.com/content/storage/975...  \n",
       "1    https://socialbuzz.cdn.com/content/storage/9f7...  \n",
       "2    https://socialbuzz.cdn.com/content/storage/230...  \n",
       "3    https://socialbuzz.cdn.com/content/storage/356...  \n",
       "4    https://socialbuzz.cdn.com/content/storage/01a...  \n",
       "..                                                 ...  \n",
       "995                                                NaN  \n",
       "996  https://socialbuzz.cdn.com/content/storage/7a7...  \n",
       "997  https://socialbuzz.cdn.com/content/storage/435...  \n",
       "998  https://socialbuzz.cdn.com/content/storage/4e4...  \n",
       "999  https://socialbuzz.cdn.com/content/storage/75d...  \n",
       "\n",
       "[1000 rows x 5 columns]"
      ]
     },
     "execution_count": 21,
     "metadata": {},
     "output_type": "execute_result"
    }
   ],
   "source": [
    "content_df = pd.read_csv(\"Content (1).csv\",index_col=0)\n",
    "content_df"
   ]
  },
  {
   "cell_type": "code",
   "execution_count": 22,
   "id": "b158722b",
   "metadata": {},
   "outputs": [
    {
     "name": "stdout",
     "output_type": "stream",
     "text": [
      "<class 'pandas.core.frame.DataFrame'>\n",
      "Int64Index: 1000 entries, 0 to 999\n",
      "Data columns (total 5 columns):\n",
      " #   Column      Non-Null Count  Dtype \n",
      "---  ------      --------------  ----- \n",
      " 0   Content ID  1000 non-null   object\n",
      " 1   User ID     1000 non-null   object\n",
      " 2   Type        1000 non-null   object\n",
      " 3   Category    1000 non-null   object\n",
      " 4   URL         801 non-null    object\n",
      "dtypes: object(5)\n",
      "memory usage: 46.9+ KB\n"
     ]
    }
   ],
   "source": [
    "content_df.info()"
   ]
  },
  {
   "cell_type": "code",
   "execution_count": 23,
   "id": "7985350a",
   "metadata": {},
   "outputs": [],
   "source": [
    "content_df[\"Category\"] = content_df.Category.str.strip(' \" ')"
   ]
  },
  {
   "cell_type": "code",
   "execution_count": 24,
   "id": "f789a3a8",
   "metadata": {},
   "outputs": [],
   "source": [
    "content_df[\"Category\"] = content_df.Category.str.capitalize() #making Category in a proper format"
   ]
  },
  {
   "cell_type": "code",
   "execution_count": 25,
   "id": "262c1545",
   "metadata": {},
   "outputs": [],
   "source": [
    "content_df.Type = content_df.Type.str.capitalize() #making type in a proper format"
   ]
  },
  {
   "cell_type": "code",
   "execution_count": 26,
   "id": "87d22de2",
   "metadata": {},
   "outputs": [],
   "source": [
    "content_df.drop(\"URL\",axis=1,inplace=True) # dropping the url column"
   ]
  },
  {
   "cell_type": "code",
   "execution_count": 27,
   "id": "2c75c364",
   "metadata": {},
   "outputs": [
    {
     "data": {
      "text/html": [
       "<div>\n",
       "<style scoped>\n",
       "    .dataframe tbody tr th:only-of-type {\n",
       "        vertical-align: middle;\n",
       "    }\n",
       "\n",
       "    .dataframe tbody tr th {\n",
       "        vertical-align: top;\n",
       "    }\n",
       "\n",
       "    .dataframe thead th {\n",
       "        text-align: right;\n",
       "    }\n",
       "</style>\n",
       "<table border=\"1\" class=\"dataframe\">\n",
       "  <thead>\n",
       "    <tr style=\"text-align: right;\">\n",
       "      <th></th>\n",
       "      <th>Content ID</th>\n",
       "      <th>User ID</th>\n",
       "      <th>Type</th>\n",
       "      <th>Category</th>\n",
       "    </tr>\n",
       "  </thead>\n",
       "  <tbody>\n",
       "    <tr>\n",
       "      <th>0</th>\n",
       "      <td>97522e57-d9ab-4bd6-97bf-c24d952602d2</td>\n",
       "      <td>8d3cd87d-8a31-4935-9a4f-b319bfe05f31</td>\n",
       "      <td>Photo</td>\n",
       "      <td>Studying</td>\n",
       "    </tr>\n",
       "    <tr>\n",
       "      <th>1</th>\n",
       "      <td>9f737e0a-3cdd-4d29-9d24-753f4e3be810</td>\n",
       "      <td>beb1f34e-7870-46d6-9fc7-2e12eb83ce43</td>\n",
       "      <td>Photo</td>\n",
       "      <td>Healthy eating</td>\n",
       "    </tr>\n",
       "    <tr>\n",
       "      <th>2</th>\n",
       "      <td>230c4e4d-70c3-461d-b42c-ec09396efb3f</td>\n",
       "      <td>a5c65404-5894-4b87-82f2-d787cbee86b4</td>\n",
       "      <td>Photo</td>\n",
       "      <td>Healthy eating</td>\n",
       "    </tr>\n",
       "    <tr>\n",
       "      <th>3</th>\n",
       "      <td>356fff80-da4d-4785-9f43-bc1261031dc6</td>\n",
       "      <td>9fb4ce88-fac1-406c-8544-1a899cee7aaf</td>\n",
       "      <td>Photo</td>\n",
       "      <td>Technology</td>\n",
       "    </tr>\n",
       "    <tr>\n",
       "      <th>4</th>\n",
       "      <td>01ab84dd-6364-4236-abbb-3f237db77180</td>\n",
       "      <td>e206e31b-5f85-4964-b6ea-d7ee5324def1</td>\n",
       "      <td>Video</td>\n",
       "      <td>Food</td>\n",
       "    </tr>\n",
       "  </tbody>\n",
       "</table>\n",
       "</div>"
      ],
      "text/plain": [
       "                             Content ID                               User ID  \\\n",
       "0  97522e57-d9ab-4bd6-97bf-c24d952602d2  8d3cd87d-8a31-4935-9a4f-b319bfe05f31   \n",
       "1  9f737e0a-3cdd-4d29-9d24-753f4e3be810  beb1f34e-7870-46d6-9fc7-2e12eb83ce43   \n",
       "2  230c4e4d-70c3-461d-b42c-ec09396efb3f  a5c65404-5894-4b87-82f2-d787cbee86b4   \n",
       "3  356fff80-da4d-4785-9f43-bc1261031dc6  9fb4ce88-fac1-406c-8544-1a899cee7aaf   \n",
       "4  01ab84dd-6364-4236-abbb-3f237db77180  e206e31b-5f85-4964-b6ea-d7ee5324def1   \n",
       "\n",
       "    Type        Category  \n",
       "0  Photo        Studying  \n",
       "1  Photo  Healthy eating  \n",
       "2  Photo  Healthy eating  \n",
       "3  Photo      Technology  \n",
       "4  Video            Food  "
      ]
     },
     "execution_count": 27,
     "metadata": {},
     "output_type": "execute_result"
    }
   ],
   "source": [
    "content_df.head()"
   ]
  },
  {
   "cell_type": "markdown",
   "id": "d3bc3188",
   "metadata": {},
   "source": [
    "## Reactions\n"
   ]
  },
  {
   "cell_type": "code",
   "execution_count": 28,
   "id": "82975979",
   "metadata": {},
   "outputs": [
    {
     "data": {
      "text/html": [
       "<div>\n",
       "<style scoped>\n",
       "    .dataframe tbody tr th:only-of-type {\n",
       "        vertical-align: middle;\n",
       "    }\n",
       "\n",
       "    .dataframe tbody tr th {\n",
       "        vertical-align: top;\n",
       "    }\n",
       "\n",
       "    .dataframe thead th {\n",
       "        text-align: right;\n",
       "    }\n",
       "</style>\n",
       "<table border=\"1\" class=\"dataframe\">\n",
       "  <thead>\n",
       "    <tr style=\"text-align: right;\">\n",
       "      <th></th>\n",
       "      <th>Content ID</th>\n",
       "      <th>User ID</th>\n",
       "      <th>Type</th>\n",
       "      <th>Datetime</th>\n",
       "    </tr>\n",
       "  </thead>\n",
       "  <tbody>\n",
       "    <tr>\n",
       "      <th>0</th>\n",
       "      <td>97522e57-d9ab-4bd6-97bf-c24d952602d2</td>\n",
       "      <td>NaN</td>\n",
       "      <td>NaN</td>\n",
       "      <td>2021-04-22 15:17:15</td>\n",
       "    </tr>\n",
       "    <tr>\n",
       "      <th>1</th>\n",
       "      <td>97522e57-d9ab-4bd6-97bf-c24d952602d2</td>\n",
       "      <td>5d454588-283d-459d-915d-c48a2cb4c27f</td>\n",
       "      <td>disgust</td>\n",
       "      <td>2020-11-07 09:43:50</td>\n",
       "    </tr>\n",
       "    <tr>\n",
       "      <th>2</th>\n",
       "      <td>97522e57-d9ab-4bd6-97bf-c24d952602d2</td>\n",
       "      <td>92b87fa5-f271-43e0-af66-84fac21052e6</td>\n",
       "      <td>dislike</td>\n",
       "      <td>2021-06-17 12:22:51</td>\n",
       "    </tr>\n",
       "    <tr>\n",
       "      <th>3</th>\n",
       "      <td>97522e57-d9ab-4bd6-97bf-c24d952602d2</td>\n",
       "      <td>163daa38-8b77-48c9-9af6-37a6c1447ac2</td>\n",
       "      <td>scared</td>\n",
       "      <td>2021-04-18 05:13:58</td>\n",
       "    </tr>\n",
       "    <tr>\n",
       "      <th>4</th>\n",
       "      <td>97522e57-d9ab-4bd6-97bf-c24d952602d2</td>\n",
       "      <td>34e8add9-0206-47fd-a501-037b994650a2</td>\n",
       "      <td>disgust</td>\n",
       "      <td>2021-01-06 19:13:01</td>\n",
       "    </tr>\n",
       "    <tr>\n",
       "      <th>...</th>\n",
       "      <td>...</td>\n",
       "      <td>...</td>\n",
       "      <td>...</td>\n",
       "      <td>...</td>\n",
       "    </tr>\n",
       "    <tr>\n",
       "      <th>25548</th>\n",
       "      <td>75d6b589-7fae-4a6d-b0d0-752845150e56</td>\n",
       "      <td>80c9ce48-46f9-4f5e-b3ca-3b698fc2e949</td>\n",
       "      <td>dislike</td>\n",
       "      <td>2020-06-27 09:46:48</td>\n",
       "    </tr>\n",
       "    <tr>\n",
       "      <th>25549</th>\n",
       "      <td>75d6b589-7fae-4a6d-b0d0-752845150e56</td>\n",
       "      <td>2bd9c167-e06c-47c1-a978-3403d6724606</td>\n",
       "      <td>intrigued</td>\n",
       "      <td>2021-02-16 17:17:02</td>\n",
       "    </tr>\n",
       "    <tr>\n",
       "      <th>25550</th>\n",
       "      <td>75d6b589-7fae-4a6d-b0d0-752845150e56</td>\n",
       "      <td>NaN</td>\n",
       "      <td>interested</td>\n",
       "      <td>2020-09-12 03:54:58</td>\n",
       "    </tr>\n",
       "    <tr>\n",
       "      <th>25551</th>\n",
       "      <td>75d6b589-7fae-4a6d-b0d0-752845150e56</td>\n",
       "      <td>5ffd8b51-164e-47e2-885e-8b8c46eb63ed</td>\n",
       "      <td>worried</td>\n",
       "      <td>2020-11-04 20:08:31</td>\n",
       "    </tr>\n",
       "    <tr>\n",
       "      <th>25552</th>\n",
       "      <td>75d6b589-7fae-4a6d-b0d0-752845150e56</td>\n",
       "      <td>4edc3d1a-a7d9-4db6-89c3-f784d9954172</td>\n",
       "      <td>cherish</td>\n",
       "      <td>2021-01-04 04:55:11</td>\n",
       "    </tr>\n",
       "  </tbody>\n",
       "</table>\n",
       "<p>25553 rows × 4 columns</p>\n",
       "</div>"
      ],
      "text/plain": [
       "                                 Content ID  \\\n",
       "0      97522e57-d9ab-4bd6-97bf-c24d952602d2   \n",
       "1      97522e57-d9ab-4bd6-97bf-c24d952602d2   \n",
       "2      97522e57-d9ab-4bd6-97bf-c24d952602d2   \n",
       "3      97522e57-d9ab-4bd6-97bf-c24d952602d2   \n",
       "4      97522e57-d9ab-4bd6-97bf-c24d952602d2   \n",
       "...                                     ...   \n",
       "25548  75d6b589-7fae-4a6d-b0d0-752845150e56   \n",
       "25549  75d6b589-7fae-4a6d-b0d0-752845150e56   \n",
       "25550  75d6b589-7fae-4a6d-b0d0-752845150e56   \n",
       "25551  75d6b589-7fae-4a6d-b0d0-752845150e56   \n",
       "25552  75d6b589-7fae-4a6d-b0d0-752845150e56   \n",
       "\n",
       "                                    User ID        Type             Datetime  \n",
       "0                                       NaN         NaN  2021-04-22 15:17:15  \n",
       "1      5d454588-283d-459d-915d-c48a2cb4c27f     disgust  2020-11-07 09:43:50  \n",
       "2      92b87fa5-f271-43e0-af66-84fac21052e6     dislike  2021-06-17 12:22:51  \n",
       "3      163daa38-8b77-48c9-9af6-37a6c1447ac2      scared  2021-04-18 05:13:58  \n",
       "4      34e8add9-0206-47fd-a501-037b994650a2     disgust  2021-01-06 19:13:01  \n",
       "...                                     ...         ...                  ...  \n",
       "25548  80c9ce48-46f9-4f5e-b3ca-3b698fc2e949     dislike  2020-06-27 09:46:48  \n",
       "25549  2bd9c167-e06c-47c1-a978-3403d6724606   intrigued  2021-02-16 17:17:02  \n",
       "25550                                   NaN  interested  2020-09-12 03:54:58  \n",
       "25551  5ffd8b51-164e-47e2-885e-8b8c46eb63ed     worried  2020-11-04 20:08:31  \n",
       "25552  4edc3d1a-a7d9-4db6-89c3-f784d9954172     cherish  2021-01-04 04:55:11  \n",
       "\n",
       "[25553 rows x 4 columns]"
      ]
     },
     "execution_count": 28,
     "metadata": {},
     "output_type": "execute_result"
    }
   ],
   "source": [
    "reaction_df = pd.read_csv(\"Reactions (1).csv\",index_col=0)\n",
    "reaction_df"
   ]
  },
  {
   "cell_type": "code",
   "execution_count": 29,
   "id": "5f0fd574",
   "metadata": {},
   "outputs": [
    {
     "name": "stdout",
     "output_type": "stream",
     "text": [
      "<class 'pandas.core.frame.DataFrame'>\n",
      "Int64Index: 25553 entries, 0 to 25552\n",
      "Data columns (total 4 columns):\n",
      " #   Column      Non-Null Count  Dtype \n",
      "---  ------      --------------  ----- \n",
      " 0   Content ID  25553 non-null  object\n",
      " 1   User ID     22534 non-null  object\n",
      " 2   Type        24573 non-null  object\n",
      " 3   Datetime    25553 non-null  object\n",
      "dtypes: object(4)\n",
      "memory usage: 998.2+ KB\n"
     ]
    }
   ],
   "source": [
    "reaction_df.info()"
   ]
  },
  {
   "cell_type": "code",
   "execution_count": 30,
   "id": "91ef45ab",
   "metadata": {},
   "outputs": [],
   "source": [
    "reaction_df.Datetime = pd.to_datetime(reaction_df.Datetime) #changing the datetime column to date time type"
   ]
  },
  {
   "cell_type": "code",
   "execution_count": 31,
   "id": "789509e4",
   "metadata": {},
   "outputs": [],
   "source": [
    "reaction_df.Type = reaction_df.Type.str.capitalize()"
   ]
  },
  {
   "cell_type": "code",
   "execution_count": 32,
   "id": "18dfc694",
   "metadata": {},
   "outputs": [],
   "source": [
    "reaction_df[\"Date\"] =  pd.to_datetime(reaction_df.Datetime).dt.date #Creating a  separate Date Column"
   ]
  },
  {
   "cell_type": "code",
   "execution_count": 33,
   "id": "c5f6afb9",
   "metadata": {},
   "outputs": [],
   "source": [
    "reaction_df.drop([\"Datetime\"],axis=1,inplace=True)  #Dropping Datetime column"
   ]
  },
  {
   "cell_type": "code",
   "execution_count": 34,
   "id": "4dd0b65b",
   "metadata": {},
   "outputs": [],
   "source": [
    "reaction_df[\"Reaction_Year\"] = pd.to_datetime(reaction_df.Date).dt.year #Year column"
   ]
  },
  {
   "cell_type": "code",
   "execution_count": 35,
   "id": "01fb0013",
   "metadata": {},
   "outputs": [],
   "source": [
    "reaction_df[\"Reaction_Month\"] = pd.to_datetime(reaction_df.Date).dt.month #month column"
   ]
  },
  {
   "cell_type": "code",
   "execution_count": 36,
   "id": "e26d04e1",
   "metadata": {},
   "outputs": [],
   "source": [
    "reaction_df.drop(\"Date\",axis=1,inplace=True) #dropping date column"
   ]
  },
  {
   "cell_type": "code",
   "execution_count": 37,
   "id": "5e503d2f",
   "metadata": {},
   "outputs": [],
   "source": [
    "reaction_df.rename(columns={\"Type\":\"Reaction_type\"},inplace=True) #Renaming Column for better understanding"
   ]
  },
  {
   "cell_type": "code",
   "execution_count": null,
   "id": "a44bf295",
   "metadata": {},
   "outputs": [],
   "source": [
    "reaction_df"
   ]
  },
  {
   "cell_type": "markdown",
   "id": "0aed1c83",
   "metadata": {},
   "source": [
    "## Merging Reaction and Content"
   ]
  },
  {
   "cell_type": "markdown",
   "id": "a490aee3",
   "metadata": {},
   "source": [
    "To find out the top 5 Popular Categories of content we will be taking Reaction_df as our base dataset and will be performing \n",
    "\"left\" join merge operation with Content_df. "
   ]
  },
  {
   "cell_type": "code",
   "execution_count": 38,
   "id": "cb7b41b8",
   "metadata": {},
   "outputs": [],
   "source": [
    "A = reaction_df.merge(content_df,how=\"left\",on=\"Content ID\")"
   ]
  },
  {
   "cell_type": "code",
   "execution_count": 39,
   "id": "a6cc46d3",
   "metadata": {},
   "outputs": [
    {
     "data": {
      "text/html": [
       "<div>\n",
       "<style scoped>\n",
       "    .dataframe tbody tr th:only-of-type {\n",
       "        vertical-align: middle;\n",
       "    }\n",
       "\n",
       "    .dataframe tbody tr th {\n",
       "        vertical-align: top;\n",
       "    }\n",
       "\n",
       "    .dataframe thead th {\n",
       "        text-align: right;\n",
       "    }\n",
       "</style>\n",
       "<table border=\"1\" class=\"dataframe\">\n",
       "  <thead>\n",
       "    <tr style=\"text-align: right;\">\n",
       "      <th></th>\n",
       "      <th>Content ID</th>\n",
       "      <th>User ID_x</th>\n",
       "      <th>Reaction_type</th>\n",
       "      <th>Reaction_Year</th>\n",
       "      <th>Reaction_Month</th>\n",
       "      <th>User ID_y</th>\n",
       "      <th>Type</th>\n",
       "      <th>Category</th>\n",
       "    </tr>\n",
       "  </thead>\n",
       "  <tbody>\n",
       "    <tr>\n",
       "      <th>0</th>\n",
       "      <td>97522e57-d9ab-4bd6-97bf-c24d952602d2</td>\n",
       "      <td>NaN</td>\n",
       "      <td>NaN</td>\n",
       "      <td>2021</td>\n",
       "      <td>4</td>\n",
       "      <td>8d3cd87d-8a31-4935-9a4f-b319bfe05f31</td>\n",
       "      <td>Photo</td>\n",
       "      <td>Studying</td>\n",
       "    </tr>\n",
       "    <tr>\n",
       "      <th>1</th>\n",
       "      <td>97522e57-d9ab-4bd6-97bf-c24d952602d2</td>\n",
       "      <td>5d454588-283d-459d-915d-c48a2cb4c27f</td>\n",
       "      <td>Disgust</td>\n",
       "      <td>2020</td>\n",
       "      <td>11</td>\n",
       "      <td>8d3cd87d-8a31-4935-9a4f-b319bfe05f31</td>\n",
       "      <td>Photo</td>\n",
       "      <td>Studying</td>\n",
       "    </tr>\n",
       "    <tr>\n",
       "      <th>2</th>\n",
       "      <td>97522e57-d9ab-4bd6-97bf-c24d952602d2</td>\n",
       "      <td>92b87fa5-f271-43e0-af66-84fac21052e6</td>\n",
       "      <td>Dislike</td>\n",
       "      <td>2021</td>\n",
       "      <td>6</td>\n",
       "      <td>8d3cd87d-8a31-4935-9a4f-b319bfe05f31</td>\n",
       "      <td>Photo</td>\n",
       "      <td>Studying</td>\n",
       "    </tr>\n",
       "    <tr>\n",
       "      <th>3</th>\n",
       "      <td>97522e57-d9ab-4bd6-97bf-c24d952602d2</td>\n",
       "      <td>163daa38-8b77-48c9-9af6-37a6c1447ac2</td>\n",
       "      <td>Scared</td>\n",
       "      <td>2021</td>\n",
       "      <td>4</td>\n",
       "      <td>8d3cd87d-8a31-4935-9a4f-b319bfe05f31</td>\n",
       "      <td>Photo</td>\n",
       "      <td>Studying</td>\n",
       "    </tr>\n",
       "    <tr>\n",
       "      <th>4</th>\n",
       "      <td>97522e57-d9ab-4bd6-97bf-c24d952602d2</td>\n",
       "      <td>34e8add9-0206-47fd-a501-037b994650a2</td>\n",
       "      <td>Disgust</td>\n",
       "      <td>2021</td>\n",
       "      <td>1</td>\n",
       "      <td>8d3cd87d-8a31-4935-9a4f-b319bfe05f31</td>\n",
       "      <td>Photo</td>\n",
       "      <td>Studying</td>\n",
       "    </tr>\n",
       "    <tr>\n",
       "      <th>...</th>\n",
       "      <td>...</td>\n",
       "      <td>...</td>\n",
       "      <td>...</td>\n",
       "      <td>...</td>\n",
       "      <td>...</td>\n",
       "      <td>...</td>\n",
       "      <td>...</td>\n",
       "      <td>...</td>\n",
       "    </tr>\n",
       "    <tr>\n",
       "      <th>25548</th>\n",
       "      <td>75d6b589-7fae-4a6d-b0d0-752845150e56</td>\n",
       "      <td>80c9ce48-46f9-4f5e-b3ca-3b698fc2e949</td>\n",
       "      <td>Dislike</td>\n",
       "      <td>2020</td>\n",
       "      <td>6</td>\n",
       "      <td>b8c653b5-0118-4d7e-9bde-07c2de90f0ff</td>\n",
       "      <td>Audio</td>\n",
       "      <td>Technology</td>\n",
       "    </tr>\n",
       "    <tr>\n",
       "      <th>25549</th>\n",
       "      <td>75d6b589-7fae-4a6d-b0d0-752845150e56</td>\n",
       "      <td>2bd9c167-e06c-47c1-a978-3403d6724606</td>\n",
       "      <td>Intrigued</td>\n",
       "      <td>2021</td>\n",
       "      <td>2</td>\n",
       "      <td>b8c653b5-0118-4d7e-9bde-07c2de90f0ff</td>\n",
       "      <td>Audio</td>\n",
       "      <td>Technology</td>\n",
       "    </tr>\n",
       "    <tr>\n",
       "      <th>25550</th>\n",
       "      <td>75d6b589-7fae-4a6d-b0d0-752845150e56</td>\n",
       "      <td>NaN</td>\n",
       "      <td>Interested</td>\n",
       "      <td>2020</td>\n",
       "      <td>9</td>\n",
       "      <td>b8c653b5-0118-4d7e-9bde-07c2de90f0ff</td>\n",
       "      <td>Audio</td>\n",
       "      <td>Technology</td>\n",
       "    </tr>\n",
       "    <tr>\n",
       "      <th>25551</th>\n",
       "      <td>75d6b589-7fae-4a6d-b0d0-752845150e56</td>\n",
       "      <td>5ffd8b51-164e-47e2-885e-8b8c46eb63ed</td>\n",
       "      <td>Worried</td>\n",
       "      <td>2020</td>\n",
       "      <td>11</td>\n",
       "      <td>b8c653b5-0118-4d7e-9bde-07c2de90f0ff</td>\n",
       "      <td>Audio</td>\n",
       "      <td>Technology</td>\n",
       "    </tr>\n",
       "    <tr>\n",
       "      <th>25552</th>\n",
       "      <td>75d6b589-7fae-4a6d-b0d0-752845150e56</td>\n",
       "      <td>4edc3d1a-a7d9-4db6-89c3-f784d9954172</td>\n",
       "      <td>Cherish</td>\n",
       "      <td>2021</td>\n",
       "      <td>1</td>\n",
       "      <td>b8c653b5-0118-4d7e-9bde-07c2de90f0ff</td>\n",
       "      <td>Audio</td>\n",
       "      <td>Technology</td>\n",
       "    </tr>\n",
       "  </tbody>\n",
       "</table>\n",
       "<p>25553 rows × 8 columns</p>\n",
       "</div>"
      ],
      "text/plain": [
       "                                 Content ID  \\\n",
       "0      97522e57-d9ab-4bd6-97bf-c24d952602d2   \n",
       "1      97522e57-d9ab-4bd6-97bf-c24d952602d2   \n",
       "2      97522e57-d9ab-4bd6-97bf-c24d952602d2   \n",
       "3      97522e57-d9ab-4bd6-97bf-c24d952602d2   \n",
       "4      97522e57-d9ab-4bd6-97bf-c24d952602d2   \n",
       "...                                     ...   \n",
       "25548  75d6b589-7fae-4a6d-b0d0-752845150e56   \n",
       "25549  75d6b589-7fae-4a6d-b0d0-752845150e56   \n",
       "25550  75d6b589-7fae-4a6d-b0d0-752845150e56   \n",
       "25551  75d6b589-7fae-4a6d-b0d0-752845150e56   \n",
       "25552  75d6b589-7fae-4a6d-b0d0-752845150e56   \n",
       "\n",
       "                                  User ID_x Reaction_type  Reaction_Year  \\\n",
       "0                                       NaN           NaN           2021   \n",
       "1      5d454588-283d-459d-915d-c48a2cb4c27f       Disgust           2020   \n",
       "2      92b87fa5-f271-43e0-af66-84fac21052e6       Dislike           2021   \n",
       "3      163daa38-8b77-48c9-9af6-37a6c1447ac2        Scared           2021   \n",
       "4      34e8add9-0206-47fd-a501-037b994650a2       Disgust           2021   \n",
       "...                                     ...           ...            ...   \n",
       "25548  80c9ce48-46f9-4f5e-b3ca-3b698fc2e949       Dislike           2020   \n",
       "25549  2bd9c167-e06c-47c1-a978-3403d6724606     Intrigued           2021   \n",
       "25550                                   NaN    Interested           2020   \n",
       "25551  5ffd8b51-164e-47e2-885e-8b8c46eb63ed       Worried           2020   \n",
       "25552  4edc3d1a-a7d9-4db6-89c3-f784d9954172       Cherish           2021   \n",
       "\n",
       "       Reaction_Month                             User ID_y   Type    Category  \n",
       "0                   4  8d3cd87d-8a31-4935-9a4f-b319bfe05f31  Photo    Studying  \n",
       "1                  11  8d3cd87d-8a31-4935-9a4f-b319bfe05f31  Photo    Studying  \n",
       "2                   6  8d3cd87d-8a31-4935-9a4f-b319bfe05f31  Photo    Studying  \n",
       "3                   4  8d3cd87d-8a31-4935-9a4f-b319bfe05f31  Photo    Studying  \n",
       "4                   1  8d3cd87d-8a31-4935-9a4f-b319bfe05f31  Photo    Studying  \n",
       "...               ...                                   ...    ...         ...  \n",
       "25548               6  b8c653b5-0118-4d7e-9bde-07c2de90f0ff  Audio  Technology  \n",
       "25549               2  b8c653b5-0118-4d7e-9bde-07c2de90f0ff  Audio  Technology  \n",
       "25550               9  b8c653b5-0118-4d7e-9bde-07c2de90f0ff  Audio  Technology  \n",
       "25551              11  b8c653b5-0118-4d7e-9bde-07c2de90f0ff  Audio  Technology  \n",
       "25552               1  b8c653b5-0118-4d7e-9bde-07c2de90f0ff  Audio  Technology  \n",
       "\n",
       "[25553 rows x 8 columns]"
      ]
     },
     "execution_count": 39,
     "metadata": {},
     "output_type": "execute_result"
    }
   ],
   "source": [
    "A"
   ]
  },
  {
   "cell_type": "code",
   "execution_count": 40,
   "id": "6f69925f",
   "metadata": {},
   "outputs": [],
   "source": [
    "A.drop(['User ID_x','User ID_y'],axis=1,inplace=True) #Dropping User Id Columns"
   ]
  },
  {
   "cell_type": "code",
   "execution_count": 41,
   "id": "adbd23b0",
   "metadata": {},
   "outputs": [
    {
     "data": {
      "text/html": [
       "<div>\n",
       "<style scoped>\n",
       "    .dataframe tbody tr th:only-of-type {\n",
       "        vertical-align: middle;\n",
       "    }\n",
       "\n",
       "    .dataframe tbody tr th {\n",
       "        vertical-align: top;\n",
       "    }\n",
       "\n",
       "    .dataframe thead th {\n",
       "        text-align: right;\n",
       "    }\n",
       "</style>\n",
       "<table border=\"1\" class=\"dataframe\">\n",
       "  <thead>\n",
       "    <tr style=\"text-align: right;\">\n",
       "      <th></th>\n",
       "      <th>Content ID</th>\n",
       "      <th>Reaction_type</th>\n",
       "      <th>Reaction_Year</th>\n",
       "      <th>Reaction_Month</th>\n",
       "      <th>Type</th>\n",
       "      <th>Category</th>\n",
       "    </tr>\n",
       "  </thead>\n",
       "  <tbody>\n",
       "    <tr>\n",
       "      <th>0</th>\n",
       "      <td>97522e57-d9ab-4bd6-97bf-c24d952602d2</td>\n",
       "      <td>NaN</td>\n",
       "      <td>2021</td>\n",
       "      <td>4</td>\n",
       "      <td>Photo</td>\n",
       "      <td>Studying</td>\n",
       "    </tr>\n",
       "    <tr>\n",
       "      <th>1</th>\n",
       "      <td>97522e57-d9ab-4bd6-97bf-c24d952602d2</td>\n",
       "      <td>Disgust</td>\n",
       "      <td>2020</td>\n",
       "      <td>11</td>\n",
       "      <td>Photo</td>\n",
       "      <td>Studying</td>\n",
       "    </tr>\n",
       "    <tr>\n",
       "      <th>2</th>\n",
       "      <td>97522e57-d9ab-4bd6-97bf-c24d952602d2</td>\n",
       "      <td>Dislike</td>\n",
       "      <td>2021</td>\n",
       "      <td>6</td>\n",
       "      <td>Photo</td>\n",
       "      <td>Studying</td>\n",
       "    </tr>\n",
       "    <tr>\n",
       "      <th>3</th>\n",
       "      <td>97522e57-d9ab-4bd6-97bf-c24d952602d2</td>\n",
       "      <td>Scared</td>\n",
       "      <td>2021</td>\n",
       "      <td>4</td>\n",
       "      <td>Photo</td>\n",
       "      <td>Studying</td>\n",
       "    </tr>\n",
       "    <tr>\n",
       "      <th>4</th>\n",
       "      <td>97522e57-d9ab-4bd6-97bf-c24d952602d2</td>\n",
       "      <td>Disgust</td>\n",
       "      <td>2021</td>\n",
       "      <td>1</td>\n",
       "      <td>Photo</td>\n",
       "      <td>Studying</td>\n",
       "    </tr>\n",
       "  </tbody>\n",
       "</table>\n",
       "</div>"
      ],
      "text/plain": [
       "                             Content ID Reaction_type  Reaction_Year  \\\n",
       "0  97522e57-d9ab-4bd6-97bf-c24d952602d2           NaN           2021   \n",
       "1  97522e57-d9ab-4bd6-97bf-c24d952602d2       Disgust           2020   \n",
       "2  97522e57-d9ab-4bd6-97bf-c24d952602d2       Dislike           2021   \n",
       "3  97522e57-d9ab-4bd6-97bf-c24d952602d2        Scared           2021   \n",
       "4  97522e57-d9ab-4bd6-97bf-c24d952602d2       Disgust           2021   \n",
       "\n",
       "   Reaction_Month   Type  Category  \n",
       "0               4  Photo  Studying  \n",
       "1              11  Photo  Studying  \n",
       "2               6  Photo  Studying  \n",
       "3               4  Photo  Studying  \n",
       "4               1  Photo  Studying  "
      ]
     },
     "execution_count": 41,
     "metadata": {},
     "output_type": "execute_result"
    }
   ],
   "source": [
    "A.head()"
   ]
  },
  {
   "cell_type": "markdown",
   "id": "8c76f522",
   "metadata": {},
   "source": [
    "## Reaction types"
   ]
  },
  {
   "cell_type": "code",
   "execution_count": 42,
   "id": "5db9cc23",
   "metadata": {},
   "outputs": [
    {
     "data": {
      "text/html": [
       "<div>\n",
       "<style scoped>\n",
       "    .dataframe tbody tr th:only-of-type {\n",
       "        vertical-align: middle;\n",
       "    }\n",
       "\n",
       "    .dataframe tbody tr th {\n",
       "        vertical-align: top;\n",
       "    }\n",
       "\n",
       "    .dataframe thead th {\n",
       "        text-align: right;\n",
       "    }\n",
       "</style>\n",
       "<table border=\"1\" class=\"dataframe\">\n",
       "  <thead>\n",
       "    <tr style=\"text-align: right;\">\n",
       "      <th></th>\n",
       "      <th>Type</th>\n",
       "      <th>Sentiment</th>\n",
       "      <th>Score</th>\n",
       "    </tr>\n",
       "  </thead>\n",
       "  <tbody>\n",
       "    <tr>\n",
       "      <th>0</th>\n",
       "      <td>heart</td>\n",
       "      <td>positive</td>\n",
       "      <td>60</td>\n",
       "    </tr>\n",
       "    <tr>\n",
       "      <th>1</th>\n",
       "      <td>want</td>\n",
       "      <td>positive</td>\n",
       "      <td>70</td>\n",
       "    </tr>\n",
       "    <tr>\n",
       "      <th>2</th>\n",
       "      <td>disgust</td>\n",
       "      <td>negative</td>\n",
       "      <td>0</td>\n",
       "    </tr>\n",
       "    <tr>\n",
       "      <th>3</th>\n",
       "      <td>hate</td>\n",
       "      <td>negative</td>\n",
       "      <td>5</td>\n",
       "    </tr>\n",
       "    <tr>\n",
       "      <th>4</th>\n",
       "      <td>interested</td>\n",
       "      <td>positive</td>\n",
       "      <td>30</td>\n",
       "    </tr>\n",
       "    <tr>\n",
       "      <th>5</th>\n",
       "      <td>indifferent</td>\n",
       "      <td>neutral</td>\n",
       "      <td>20</td>\n",
       "    </tr>\n",
       "    <tr>\n",
       "      <th>6</th>\n",
       "      <td>love</td>\n",
       "      <td>positive</td>\n",
       "      <td>65</td>\n",
       "    </tr>\n",
       "    <tr>\n",
       "      <th>7</th>\n",
       "      <td>super love</td>\n",
       "      <td>positive</td>\n",
       "      <td>75</td>\n",
       "    </tr>\n",
       "    <tr>\n",
       "      <th>8</th>\n",
       "      <td>cherish</td>\n",
       "      <td>positive</td>\n",
       "      <td>70</td>\n",
       "    </tr>\n",
       "    <tr>\n",
       "      <th>9</th>\n",
       "      <td>adore</td>\n",
       "      <td>positive</td>\n",
       "      <td>72</td>\n",
       "    </tr>\n",
       "    <tr>\n",
       "      <th>10</th>\n",
       "      <td>like</td>\n",
       "      <td>positive</td>\n",
       "      <td>50</td>\n",
       "    </tr>\n",
       "    <tr>\n",
       "      <th>11</th>\n",
       "      <td>dislike</td>\n",
       "      <td>negative</td>\n",
       "      <td>10</td>\n",
       "    </tr>\n",
       "    <tr>\n",
       "      <th>12</th>\n",
       "      <td>intrigued</td>\n",
       "      <td>positive</td>\n",
       "      <td>45</td>\n",
       "    </tr>\n",
       "    <tr>\n",
       "      <th>13</th>\n",
       "      <td>peeking</td>\n",
       "      <td>neutral</td>\n",
       "      <td>35</td>\n",
       "    </tr>\n",
       "    <tr>\n",
       "      <th>14</th>\n",
       "      <td>scared</td>\n",
       "      <td>negative</td>\n",
       "      <td>15</td>\n",
       "    </tr>\n",
       "    <tr>\n",
       "      <th>15</th>\n",
       "      <td>worried</td>\n",
       "      <td>negative</td>\n",
       "      <td>12</td>\n",
       "    </tr>\n",
       "  </tbody>\n",
       "</table>\n",
       "</div>"
      ],
      "text/plain": [
       "           Type Sentiment  Score\n",
       "0         heart  positive     60\n",
       "1          want  positive     70\n",
       "2       disgust  negative      0\n",
       "3          hate  negative      5\n",
       "4    interested  positive     30\n",
       "5   indifferent   neutral     20\n",
       "6          love  positive     65\n",
       "7    super love  positive     75\n",
       "8       cherish  positive     70\n",
       "9         adore  positive     72\n",
       "10         like  positive     50\n",
       "11      dislike  negative     10\n",
       "12    intrigued  positive     45\n",
       "13      peeking   neutral     35\n",
       "14       scared  negative     15\n",
       "15      worried  negative     12"
      ]
     },
     "execution_count": 42,
     "metadata": {},
     "output_type": "execute_result"
    }
   ],
   "source": [
    "reac_types_df = pd.read_csv(\"ReactionTypes (1).csv\",index_col=0)\n",
    "reac_types_df"
   ]
  },
  {
   "cell_type": "code",
   "execution_count": 43,
   "id": "55b27b71",
   "metadata": {},
   "outputs": [],
   "source": [
    "reac_types_df.Type = reac_types_df.Type.str.capitalize()"
   ]
  },
  {
   "cell_type": "code",
   "execution_count": 44,
   "id": "c4ca4536",
   "metadata": {},
   "outputs": [],
   "source": [
    "reac_types_df.rename(columns={\"Type\":\"Reaction_type\"},inplace=True)"
   ]
  },
  {
   "cell_type": "code",
   "execution_count": 46,
   "id": "bb38c2b7",
   "metadata": {},
   "outputs": [
    {
     "data": {
      "text/html": [
       "<div>\n",
       "<style scoped>\n",
       "    .dataframe tbody tr th:only-of-type {\n",
       "        vertical-align: middle;\n",
       "    }\n",
       "\n",
       "    .dataframe tbody tr th {\n",
       "        vertical-align: top;\n",
       "    }\n",
       "\n",
       "    .dataframe thead th {\n",
       "        text-align: right;\n",
       "    }\n",
       "</style>\n",
       "<table border=\"1\" class=\"dataframe\">\n",
       "  <thead>\n",
       "    <tr style=\"text-align: right;\">\n",
       "      <th></th>\n",
       "      <th>Reaction_type</th>\n",
       "      <th>Sentiment</th>\n",
       "      <th>Score</th>\n",
       "    </tr>\n",
       "  </thead>\n",
       "  <tbody>\n",
       "    <tr>\n",
       "      <th>0</th>\n",
       "      <td>Heart</td>\n",
       "      <td>positive</td>\n",
       "      <td>60</td>\n",
       "    </tr>\n",
       "    <tr>\n",
       "      <th>1</th>\n",
       "      <td>Want</td>\n",
       "      <td>positive</td>\n",
       "      <td>70</td>\n",
       "    </tr>\n",
       "    <tr>\n",
       "      <th>2</th>\n",
       "      <td>Disgust</td>\n",
       "      <td>negative</td>\n",
       "      <td>0</td>\n",
       "    </tr>\n",
       "    <tr>\n",
       "      <th>3</th>\n",
       "      <td>Hate</td>\n",
       "      <td>negative</td>\n",
       "      <td>5</td>\n",
       "    </tr>\n",
       "    <tr>\n",
       "      <th>4</th>\n",
       "      <td>Interested</td>\n",
       "      <td>positive</td>\n",
       "      <td>30</td>\n",
       "    </tr>\n",
       "  </tbody>\n",
       "</table>\n",
       "</div>"
      ],
      "text/plain": [
       "  Reaction_type Sentiment  Score\n",
       "0         Heart  positive     60\n",
       "1          Want  positive     70\n",
       "2       Disgust  negative      0\n",
       "3          Hate  negative      5\n",
       "4    Interested  positive     30"
      ]
     },
     "execution_count": 46,
     "metadata": {},
     "output_type": "execute_result"
    }
   ],
   "source": [
    "reac_types_df.head()"
   ]
  },
  {
   "cell_type": "markdown",
   "id": "927f2827",
   "metadata": {},
   "source": [
    "### So now we have all the content along with their categories and reactions. Our objective is to find out the top \n",
    "### 5 popular content categories and we will be finding that by the score given in reaction types dataset. "
   ]
  },
  {
   "cell_type": "markdown",
   "id": "97f3afb4",
   "metadata": {},
   "source": [
    "## Merging A dataframe with Reaction type "
   ]
  },
  {
   "cell_type": "code",
   "execution_count": 47,
   "id": "3a0765c7",
   "metadata": {},
   "outputs": [],
   "source": [
    "FinalB = A.merge(reac_types_df,how=\"left\",on=\"Reaction_type\") "
   ]
  },
  {
   "cell_type": "code",
   "execution_count": 48,
   "id": "430de3be",
   "metadata": {
    "scrolled": true
   },
   "outputs": [
    {
     "data": {
      "text/html": [
       "<div>\n",
       "<style scoped>\n",
       "    .dataframe tbody tr th:only-of-type {\n",
       "        vertical-align: middle;\n",
       "    }\n",
       "\n",
       "    .dataframe tbody tr th {\n",
       "        vertical-align: top;\n",
       "    }\n",
       "\n",
       "    .dataframe thead th {\n",
       "        text-align: right;\n",
       "    }\n",
       "</style>\n",
       "<table border=\"1\" class=\"dataframe\">\n",
       "  <thead>\n",
       "    <tr style=\"text-align: right;\">\n",
       "      <th></th>\n",
       "      <th>Content ID</th>\n",
       "      <th>Reaction_type</th>\n",
       "      <th>Reaction_Year</th>\n",
       "      <th>Reaction_Month</th>\n",
       "      <th>Type</th>\n",
       "      <th>Category</th>\n",
       "      <th>Sentiment</th>\n",
       "      <th>Score</th>\n",
       "    </tr>\n",
       "  </thead>\n",
       "  <tbody>\n",
       "    <tr>\n",
       "      <th>0</th>\n",
       "      <td>97522e57-d9ab-4bd6-97bf-c24d952602d2</td>\n",
       "      <td>NaN</td>\n",
       "      <td>2021</td>\n",
       "      <td>4</td>\n",
       "      <td>Photo</td>\n",
       "      <td>Studying</td>\n",
       "      <td>NaN</td>\n",
       "      <td>NaN</td>\n",
       "    </tr>\n",
       "    <tr>\n",
       "      <th>1</th>\n",
       "      <td>97522e57-d9ab-4bd6-97bf-c24d952602d2</td>\n",
       "      <td>Disgust</td>\n",
       "      <td>2020</td>\n",
       "      <td>11</td>\n",
       "      <td>Photo</td>\n",
       "      <td>Studying</td>\n",
       "      <td>negative</td>\n",
       "      <td>0.0</td>\n",
       "    </tr>\n",
       "    <tr>\n",
       "      <th>2</th>\n",
       "      <td>97522e57-d9ab-4bd6-97bf-c24d952602d2</td>\n",
       "      <td>Dislike</td>\n",
       "      <td>2021</td>\n",
       "      <td>6</td>\n",
       "      <td>Photo</td>\n",
       "      <td>Studying</td>\n",
       "      <td>negative</td>\n",
       "      <td>10.0</td>\n",
       "    </tr>\n",
       "    <tr>\n",
       "      <th>3</th>\n",
       "      <td>97522e57-d9ab-4bd6-97bf-c24d952602d2</td>\n",
       "      <td>Scared</td>\n",
       "      <td>2021</td>\n",
       "      <td>4</td>\n",
       "      <td>Photo</td>\n",
       "      <td>Studying</td>\n",
       "      <td>negative</td>\n",
       "      <td>15.0</td>\n",
       "    </tr>\n",
       "    <tr>\n",
       "      <th>4</th>\n",
       "      <td>97522e57-d9ab-4bd6-97bf-c24d952602d2</td>\n",
       "      <td>Disgust</td>\n",
       "      <td>2021</td>\n",
       "      <td>1</td>\n",
       "      <td>Photo</td>\n",
       "      <td>Studying</td>\n",
       "      <td>negative</td>\n",
       "      <td>0.0</td>\n",
       "    </tr>\n",
       "    <tr>\n",
       "      <th>...</th>\n",
       "      <td>...</td>\n",
       "      <td>...</td>\n",
       "      <td>...</td>\n",
       "      <td>...</td>\n",
       "      <td>...</td>\n",
       "      <td>...</td>\n",
       "      <td>...</td>\n",
       "      <td>...</td>\n",
       "    </tr>\n",
       "    <tr>\n",
       "      <th>25548</th>\n",
       "      <td>75d6b589-7fae-4a6d-b0d0-752845150e56</td>\n",
       "      <td>Dislike</td>\n",
       "      <td>2020</td>\n",
       "      <td>6</td>\n",
       "      <td>Audio</td>\n",
       "      <td>Technology</td>\n",
       "      <td>negative</td>\n",
       "      <td>10.0</td>\n",
       "    </tr>\n",
       "    <tr>\n",
       "      <th>25549</th>\n",
       "      <td>75d6b589-7fae-4a6d-b0d0-752845150e56</td>\n",
       "      <td>Intrigued</td>\n",
       "      <td>2021</td>\n",
       "      <td>2</td>\n",
       "      <td>Audio</td>\n",
       "      <td>Technology</td>\n",
       "      <td>positive</td>\n",
       "      <td>45.0</td>\n",
       "    </tr>\n",
       "    <tr>\n",
       "      <th>25550</th>\n",
       "      <td>75d6b589-7fae-4a6d-b0d0-752845150e56</td>\n",
       "      <td>Interested</td>\n",
       "      <td>2020</td>\n",
       "      <td>9</td>\n",
       "      <td>Audio</td>\n",
       "      <td>Technology</td>\n",
       "      <td>positive</td>\n",
       "      <td>30.0</td>\n",
       "    </tr>\n",
       "    <tr>\n",
       "      <th>25551</th>\n",
       "      <td>75d6b589-7fae-4a6d-b0d0-752845150e56</td>\n",
       "      <td>Worried</td>\n",
       "      <td>2020</td>\n",
       "      <td>11</td>\n",
       "      <td>Audio</td>\n",
       "      <td>Technology</td>\n",
       "      <td>negative</td>\n",
       "      <td>12.0</td>\n",
       "    </tr>\n",
       "    <tr>\n",
       "      <th>25552</th>\n",
       "      <td>75d6b589-7fae-4a6d-b0d0-752845150e56</td>\n",
       "      <td>Cherish</td>\n",
       "      <td>2021</td>\n",
       "      <td>1</td>\n",
       "      <td>Audio</td>\n",
       "      <td>Technology</td>\n",
       "      <td>positive</td>\n",
       "      <td>70.0</td>\n",
       "    </tr>\n",
       "  </tbody>\n",
       "</table>\n",
       "<p>25553 rows × 8 columns</p>\n",
       "</div>"
      ],
      "text/plain": [
       "                                 Content ID Reaction_type  Reaction_Year  \\\n",
       "0      97522e57-d9ab-4bd6-97bf-c24d952602d2           NaN           2021   \n",
       "1      97522e57-d9ab-4bd6-97bf-c24d952602d2       Disgust           2020   \n",
       "2      97522e57-d9ab-4bd6-97bf-c24d952602d2       Dislike           2021   \n",
       "3      97522e57-d9ab-4bd6-97bf-c24d952602d2        Scared           2021   \n",
       "4      97522e57-d9ab-4bd6-97bf-c24d952602d2       Disgust           2021   \n",
       "...                                     ...           ...            ...   \n",
       "25548  75d6b589-7fae-4a6d-b0d0-752845150e56       Dislike           2020   \n",
       "25549  75d6b589-7fae-4a6d-b0d0-752845150e56     Intrigued           2021   \n",
       "25550  75d6b589-7fae-4a6d-b0d0-752845150e56    Interested           2020   \n",
       "25551  75d6b589-7fae-4a6d-b0d0-752845150e56       Worried           2020   \n",
       "25552  75d6b589-7fae-4a6d-b0d0-752845150e56       Cherish           2021   \n",
       "\n",
       "       Reaction_Month   Type    Category Sentiment  Score  \n",
       "0                   4  Photo    Studying       NaN    NaN  \n",
       "1                  11  Photo    Studying  negative    0.0  \n",
       "2                   6  Photo    Studying  negative   10.0  \n",
       "3                   4  Photo    Studying  negative   15.0  \n",
       "4                   1  Photo    Studying  negative    0.0  \n",
       "...               ...    ...         ...       ...    ...  \n",
       "25548               6  Audio  Technology  negative   10.0  \n",
       "25549               2  Audio  Technology  positive   45.0  \n",
       "25550               9  Audio  Technology  positive   30.0  \n",
       "25551              11  Audio  Technology  negative   12.0  \n",
       "25552               1  Audio  Technology  positive   70.0  \n",
       "\n",
       "[25553 rows x 8 columns]"
      ]
     },
     "execution_count": 48,
     "metadata": {},
     "output_type": "execute_result"
    }
   ],
   "source": [
    "FinalB"
   ]
  },
  {
   "cell_type": "code",
   "execution_count": 52,
   "id": "0852994f",
   "metadata": {},
   "outputs": [
    {
     "name": "stdout",
     "output_type": "stream",
     "text": [
      "<class 'pandas.core.frame.DataFrame'>\n",
      "Int64Index: 25553 entries, 0 to 25552\n",
      "Data columns (total 8 columns):\n",
      " #   Column          Non-Null Count  Dtype  \n",
      "---  ------          --------------  -----  \n",
      " 0   Content ID      25553 non-null  object \n",
      " 1   Reaction_type   24573 non-null  object \n",
      " 2   Reaction_Year   25553 non-null  int64  \n",
      " 3   Reaction_Month  25553 non-null  int64  \n",
      " 4   Type            25553 non-null  object \n",
      " 5   Category        25553 non-null  object \n",
      " 6   Sentiment       24573 non-null  object \n",
      " 7   Score           24573 non-null  float64\n",
      "dtypes: float64(1), int64(2), object(5)\n",
      "memory usage: 1.8+ MB\n"
     ]
    }
   ],
   "source": [
    "FinalB.info()"
   ]
  },
  {
   "cell_type": "markdown",
   "id": "5d155e54",
   "metadata": {},
   "source": [
    "##### There are some NAN values in reation types. we will be dropping them and then will find the top 5 category."
   ]
  },
  {
   "cell_type": "code",
   "execution_count": 58,
   "id": "f60903f6",
   "metadata": {
    "scrolled": true
   },
   "outputs": [
    {
     "data": {
      "text/html": [
       "<div>\n",
       "<style scoped>\n",
       "    .dataframe tbody tr th:only-of-type {\n",
       "        vertical-align: middle;\n",
       "    }\n",
       "\n",
       "    .dataframe tbody tr th {\n",
       "        vertical-align: top;\n",
       "    }\n",
       "\n",
       "    .dataframe thead th {\n",
       "        text-align: right;\n",
       "    }\n",
       "</style>\n",
       "<table border=\"1\" class=\"dataframe\">\n",
       "  <thead>\n",
       "    <tr style=\"text-align: right;\">\n",
       "      <th></th>\n",
       "      <th>Content ID</th>\n",
       "      <th>Reaction_type</th>\n",
       "      <th>Reaction_Year</th>\n",
       "      <th>Reaction_Month</th>\n",
       "      <th>Type</th>\n",
       "      <th>Category</th>\n",
       "      <th>Sentiment</th>\n",
       "      <th>Score</th>\n",
       "    </tr>\n",
       "  </thead>\n",
       "  <tbody>\n",
       "    <tr>\n",
       "      <th>1</th>\n",
       "      <td>97522e57-d9ab-4bd6-97bf-c24d952602d2</td>\n",
       "      <td>Disgust</td>\n",
       "      <td>2020</td>\n",
       "      <td>11</td>\n",
       "      <td>Photo</td>\n",
       "      <td>Studying</td>\n",
       "      <td>negative</td>\n",
       "      <td>0.0</td>\n",
       "    </tr>\n",
       "    <tr>\n",
       "      <th>2</th>\n",
       "      <td>97522e57-d9ab-4bd6-97bf-c24d952602d2</td>\n",
       "      <td>Dislike</td>\n",
       "      <td>2021</td>\n",
       "      <td>6</td>\n",
       "      <td>Photo</td>\n",
       "      <td>Studying</td>\n",
       "      <td>negative</td>\n",
       "      <td>10.0</td>\n",
       "    </tr>\n",
       "    <tr>\n",
       "      <th>3</th>\n",
       "      <td>97522e57-d9ab-4bd6-97bf-c24d952602d2</td>\n",
       "      <td>Scared</td>\n",
       "      <td>2021</td>\n",
       "      <td>4</td>\n",
       "      <td>Photo</td>\n",
       "      <td>Studying</td>\n",
       "      <td>negative</td>\n",
       "      <td>15.0</td>\n",
       "    </tr>\n",
       "    <tr>\n",
       "      <th>4</th>\n",
       "      <td>97522e57-d9ab-4bd6-97bf-c24d952602d2</td>\n",
       "      <td>Disgust</td>\n",
       "      <td>2021</td>\n",
       "      <td>1</td>\n",
       "      <td>Photo</td>\n",
       "      <td>Studying</td>\n",
       "      <td>negative</td>\n",
       "      <td>0.0</td>\n",
       "    </tr>\n",
       "    <tr>\n",
       "      <th>5</th>\n",
       "      <td>97522e57-d9ab-4bd6-97bf-c24d952602d2</td>\n",
       "      <td>Interested</td>\n",
       "      <td>2020</td>\n",
       "      <td>8</td>\n",
       "      <td>Photo</td>\n",
       "      <td>Studying</td>\n",
       "      <td>positive</td>\n",
       "      <td>30.0</td>\n",
       "    </tr>\n",
       "    <tr>\n",
       "      <th>...</th>\n",
       "      <td>...</td>\n",
       "      <td>...</td>\n",
       "      <td>...</td>\n",
       "      <td>...</td>\n",
       "      <td>...</td>\n",
       "      <td>...</td>\n",
       "      <td>...</td>\n",
       "      <td>...</td>\n",
       "    </tr>\n",
       "    <tr>\n",
       "      <th>25548</th>\n",
       "      <td>75d6b589-7fae-4a6d-b0d0-752845150e56</td>\n",
       "      <td>Dislike</td>\n",
       "      <td>2020</td>\n",
       "      <td>6</td>\n",
       "      <td>Audio</td>\n",
       "      <td>Technology</td>\n",
       "      <td>negative</td>\n",
       "      <td>10.0</td>\n",
       "    </tr>\n",
       "    <tr>\n",
       "      <th>25549</th>\n",
       "      <td>75d6b589-7fae-4a6d-b0d0-752845150e56</td>\n",
       "      <td>Intrigued</td>\n",
       "      <td>2021</td>\n",
       "      <td>2</td>\n",
       "      <td>Audio</td>\n",
       "      <td>Technology</td>\n",
       "      <td>positive</td>\n",
       "      <td>45.0</td>\n",
       "    </tr>\n",
       "    <tr>\n",
       "      <th>25550</th>\n",
       "      <td>75d6b589-7fae-4a6d-b0d0-752845150e56</td>\n",
       "      <td>Interested</td>\n",
       "      <td>2020</td>\n",
       "      <td>9</td>\n",
       "      <td>Audio</td>\n",
       "      <td>Technology</td>\n",
       "      <td>positive</td>\n",
       "      <td>30.0</td>\n",
       "    </tr>\n",
       "    <tr>\n",
       "      <th>25551</th>\n",
       "      <td>75d6b589-7fae-4a6d-b0d0-752845150e56</td>\n",
       "      <td>Worried</td>\n",
       "      <td>2020</td>\n",
       "      <td>11</td>\n",
       "      <td>Audio</td>\n",
       "      <td>Technology</td>\n",
       "      <td>negative</td>\n",
       "      <td>12.0</td>\n",
       "    </tr>\n",
       "    <tr>\n",
       "      <th>25552</th>\n",
       "      <td>75d6b589-7fae-4a6d-b0d0-752845150e56</td>\n",
       "      <td>Cherish</td>\n",
       "      <td>2021</td>\n",
       "      <td>1</td>\n",
       "      <td>Audio</td>\n",
       "      <td>Technology</td>\n",
       "      <td>positive</td>\n",
       "      <td>70.0</td>\n",
       "    </tr>\n",
       "  </tbody>\n",
       "</table>\n",
       "<p>24573 rows × 8 columns</p>\n",
       "</div>"
      ],
      "text/plain": [
       "                                 Content ID Reaction_type  Reaction_Year  \\\n",
       "1      97522e57-d9ab-4bd6-97bf-c24d952602d2       Disgust           2020   \n",
       "2      97522e57-d9ab-4bd6-97bf-c24d952602d2       Dislike           2021   \n",
       "3      97522e57-d9ab-4bd6-97bf-c24d952602d2        Scared           2021   \n",
       "4      97522e57-d9ab-4bd6-97bf-c24d952602d2       Disgust           2021   \n",
       "5      97522e57-d9ab-4bd6-97bf-c24d952602d2    Interested           2020   \n",
       "...                                     ...           ...            ...   \n",
       "25548  75d6b589-7fae-4a6d-b0d0-752845150e56       Dislike           2020   \n",
       "25549  75d6b589-7fae-4a6d-b0d0-752845150e56     Intrigued           2021   \n",
       "25550  75d6b589-7fae-4a6d-b0d0-752845150e56    Interested           2020   \n",
       "25551  75d6b589-7fae-4a6d-b0d0-752845150e56       Worried           2020   \n",
       "25552  75d6b589-7fae-4a6d-b0d0-752845150e56       Cherish           2021   \n",
       "\n",
       "       Reaction_Month   Type    Category Sentiment  Score  \n",
       "1                  11  Photo    Studying  negative    0.0  \n",
       "2                   6  Photo    Studying  negative   10.0  \n",
       "3                   4  Photo    Studying  negative   15.0  \n",
       "4                   1  Photo    Studying  negative    0.0  \n",
       "5                   8  Photo    Studying  positive   30.0  \n",
       "...               ...    ...         ...       ...    ...  \n",
       "25548               6  Audio  Technology  negative   10.0  \n",
       "25549               2  Audio  Technology  positive   45.0  \n",
       "25550               9  Audio  Technology  positive   30.0  \n",
       "25551              11  Audio  Technology  negative   12.0  \n",
       "25552               1  Audio  Technology  positive   70.0  \n",
       "\n",
       "[24573 rows x 8 columns]"
      ]
     },
     "execution_count": 58,
     "metadata": {},
     "output_type": "execute_result"
    }
   ],
   "source": [
    "FinalB.dropna()"
   ]
  },
  {
   "cell_type": "markdown",
   "id": "09caa214",
   "metadata": {},
   "source": [
    "Now this is our final Dataset that we will be using for our analysis."
   ]
  },
  {
   "cell_type": "code",
   "execution_count": 73,
   "id": "c7bd5d8a",
   "metadata": {},
   "outputs": [
    {
     "data": {
      "text/plain": [
       "Category\n",
       "Animals           74965.0\n",
       "Science           71168.0\n",
       "Healthy eating    69339.0\n",
       "Technology        68738.0\n",
       "Food              66676.0\n",
       "Name: Score, dtype: float64"
      ]
     },
     "execution_count": 73,
     "metadata": {},
     "output_type": "execute_result"
    }
   ],
   "source": [
    "# To find the most popular category we have to group by category and aggregate sum of score. Sort them in descending order \n",
    "#and only top 5\n",
    "Top_category = FinalB.groupby(\"Category\")[\"Score\"].sum().sort_values(ascending=False).head()\n",
    "Top_category"
   ]
  },
  {
   "cell_type": "code",
   "execution_count": 63,
   "id": "c12f743b",
   "metadata": {},
   "outputs": [],
   "source": [
    "FinalB.to_csv(\"Final_Analysis.csv\",index=False) #saving the CSv file to the System"
   ]
  },
  {
   "cell_type": "markdown",
   "id": "37ef7ea9",
   "metadata": {},
   "source": [
    "# We have found  top 5 categories. \n",
    "- Animals\n",
    "- Science\n",
    "- Healthy Eating\n",
    "- Technology\n",
    "- Food"
   ]
  },
  {
   "cell_type": "markdown",
   "id": "b29d4567",
   "metadata": {},
   "source": [
    "# Visualization"
   ]
  },
  {
   "cell_type": "code",
   "execution_count": 76,
   "id": "f10d4a72",
   "metadata": {
    "scrolled": true
   },
   "outputs": [],
   "source": [
    "#importing  visualisation libraries\n",
    "import matplotlib\n",
    "import matplotlib.pyplot as plt\n",
    "import seaborn as sns\n",
    "%matplotlib inline\n",
    "sns.set_style('darkgrid')\n",
    "matplotlib.rcParams['font.size']=14\n",
    "matplotlib.rcParams['figure.figsize']= (12,5)"
   ]
  },
  {
   "cell_type": "markdown",
   "id": "8855fe0f",
   "metadata": {},
   "source": [
    "## Top 5 Category"
   ]
  },
  {
   "cell_type": "code",
   "execution_count": 107,
   "id": "a6f81eed",
   "metadata": {},
   "outputs": [
    {
     "data": {
      "text/plain": [
       "<AxesSubplot:xlabel='Category', ylabel='Score'>"
      ]
     },
     "execution_count": 107,
     "metadata": {},
     "output_type": "execute_result"
    },
    {
     "data": {
      "image/png": "[encoded data removed]",
      "text/plain": [
       "<Figure size 864x360 with 1 Axes>"
      ]
     },
     "metadata": {},
     "output_type": "display_data"
    }
   ],
   "source": [
    "sns.barplot(x=Top_category.index,y=Top_category,color=\"lightBlue\")"
   ]
  },
  {
   "cell_type": "code",
   "execution_count": 144,
   "id": "6519320b",
   "metadata": {},
   "outputs": [],
   "source": [
    "### which type of content is most popular\n",
    "Top_type = FinalB.groupby(\"Type\")[\"Score\"].sum().sort_values(ascending=False).head()"
   ]
  },
  {
   "cell_type": "code",
   "execution_count": 145,
   "id": "36572917",
   "metadata": {},
   "outputs": [
    {
     "data": {
      "text/plain": [
       "Type\n",
       "Photo    262838.0\n",
       "Video    246463.0\n",
       "Gif      238217.0\n",
       "Audio    226127.0\n",
       "Name: Score, dtype: float64"
      ]
     },
     "execution_count": 145,
     "metadata": {},
     "output_type": "execute_result"
    }
   ],
   "source": [
    "Top_type"
   ]
  },
  {
   "cell_type": "code",
   "execution_count": 162,
   "id": "d1698e84",
   "metadata": {},
   "outputs": [
    {
     "data": {
      "text/plain": [
       "<AxesSubplot:xlabel='Score', ylabel='Type'>"
      ]
     },
     "execution_count": 162,
     "metadata": {},
     "output_type": "execute_result"
    },
    {
     "data": {
      "image/png": "[encoded data removed]",
      "text/plain": [
       "<Figure size 864x360 with 1 Axes>"
      ]
     },
     "metadata": {},
     "output_type": "display_data"
    }
   ],
   "source": [
    "sns.barplot(y=Top_type.index,x=Top_type,palette=\"BuGn\")\n",
    "\n"
   ]
  },
  {
   "cell_type": "code",
   "execution_count": 165,
   "id": "3dfb02ed",
   "metadata": {},
   "outputs": [],
   "source": [
    "#Month with most number of reactions\n",
    "Month_count = FinalB.groupby(\"Reaction_Month\")[\"Reaction_type\"].count()"
   ]
  },
  {
   "cell_type": "code",
   "execution_count": 166,
   "id": "34739f71",
   "metadata": {},
   "outputs": [
    {
     "data": {
      "text/plain": [
       "Reaction_Month\n",
       "1     2126\n",
       "2     1914\n",
       "3     2012\n",
       "4     1974\n",
       "5     2138\n",
       "6     2021\n",
       "7     2070\n",
       "8     2114\n",
       "9     2022\n",
       "10    2056\n",
       "11    2034\n",
       "12    2092\n",
       "Name: Reaction_type, dtype: int64"
      ]
     },
     "execution_count": 166,
     "metadata": {},
     "output_type": "execute_result"
    }
   ],
   "source": [
    "Month_count"
   ]
  },
  {
   "cell_type": "code",
   "execution_count": 184,
   "id": "7f86494f",
   "metadata": {
    "scrolled": false
   },
   "outputs": [
    {
     "data": {
      "image/png": "[encoded data removed]",
      "text/plain": [
       "<Figure size 864x360 with 1 Axes>"
      ]
     },
     "metadata": {},
     "output_type": "display_data"
    }
   ],
   "source": [
    "plt.plot(Month_count,\"r*:\")\n",
    "plt.title(\"No. of Reactions in Months\")\n",
    "plt.xlabel(\"Months\")\n",
    "plt.show()"
   ]
  },
  {
   "cell_type": "markdown",
   "id": "5473371b",
   "metadata": {},
   "source": [
    "### From the above datasets we can conclude that Animal category is the most popular category followed by science means mostly people use to see content related to facts and wildlife.\n",
    "### The most popular type of content is Photos.\n"
   ]
  }
 ],
 "metadata": {
  "kernelspec": {
   "display_name": "Python 3 (ipykernel)",
   "language": "python",
   "name": "python3"
  },
  "language_info": {
   "codemirror_mode": {
    "name": "ipython",
    "version": 3
   },
   "file_extension": ".py",
   "mimetype": "text/x-python",
   "name": "python",
   "nbconvert_exporter": "python",
   "pygments_lexer": "ipython3",
   "version": "3.10.5"
  }
 },
 "nbformat": 4,
 "nbformat_minor": 5
}
